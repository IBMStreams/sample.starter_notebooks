{
 "cells": [
  {
   "cell_type": "markdown",
   "metadata": {
    "collapsed": true
   },
   "source": [
    "# IBM Streams Segment integration sample application\n",
    "\n",
    "This sample demonstrates integrating a Streams Python application with the [Segment](https://segment.com/) customer data processing web service.\n",
    "\n",
    "<ul>\n",
    "    <a href=\"#overview\">Overview</a>\n",
    "</ul>\n",
    "<ol>\n",
    "    <li><a href=\"#setup\">Setup</a>\n",
    "        <ul>\n",
    "            <li>1.1 <a href=\"#setupStreams\">Connection to Streams Instance</a></li>\n",
    "            <li>1.2 <a href=\"#setupPackages\">Install or upgrade streamsx Python packages</a></li>\n",
    "            <li>1.3 <a href=\"#setupSegment\">Install or upgrade Segment Python packages</a></li>\n",
    "        </ul>\n",
    "    </li>\n",
    "    <br/>\n",
    "    <li><a href=\"#dataProcessingClassesFunctions\">Data processing classes and functions</a>\n",
    "        <ul>\n",
    "            <li>2.1 <a href=\"#dataGeneratorClass\">Data generator class</a></li>\n",
    "            <li>2.2 <a href=\"#countIdentifyData\">Class that counts Identify events in a batch</a></li>\n",
    "            <li>2.3 <a href=\"#sinkFunction\">The sink function</a></li>\n",
    "        </ul>\n",
    "    </li>\n",
    "    <br/>\n",
    "    <li><a href=\"#createApplication\">Create the application</a>\n",
    "        <ul>\n",
    "            <li>3.1 <a href=\"#mockupWebhookDataPublisher\">Mock-up Webhook data publisher</a></li>\n",
    "            <li>3.2 <a href=\"#webhookDataPublisher\">Webhook data publisher</a></li>\n",
    "            <li>3.3 <a href=\"#streamsSegmentIntegration\">Streams Segment Integration</a></li>\n",
    "        </ul>\n",
    "    </li>\n",
    "    <br/>\n",
    "    <li><a href=\"#cancel\">Cancel all jobs</a></li>\n",
    "</ol>\n",
    "\n",
    "\n",
    "\n",
    "<a name=\"overview\"></a>\n",
    "\n",
    "# Overview\n",
    "\n",
    "**About the sample**\n",
    "\n",
    "This sample application receives data from a Segment Webhook destination (mocked up for now), processes the data within\n",
    "the Streams Python application and finally sends new data into Segment, using Segment's Python API.\n",
    "\n",
    "**How it works**\n",
    "\n",
    "With the Streams Python API, we will define a topology step by step, describing the flow of data in our streaming application through a number of processing functions. Running the Python code in the notebook will create this graph/flow and finally submit it to the Streams instance.\n",
    "\n",
    "<img src=\"https://developer.ibm.com/streamsdev/wp-content/uploads/sites/15/2019/04/how-it-works.jpg\" alt=\"How it works\">\n",
    "\n",
    "<br>\n",
    "<br>\n",
    "\n",
    "\n",
    "### Documentation & Information links\n",
    "\n",
    "- [Streams Python development guide](https://ibmstreams.github.io/streamsx.documentation/docs/latest/python/)\n",
    "- [streamsx.topology Python API](https://streamsxtopology.readthedocs.io/)\n",
    "- [streamsx.endpoint Python API](https://streamsxendpoint.readthedocs.io/)\n",
    "- [Segment Spec](https://segment.com/docs/spec/)\n",
    "- [Segment Python Source API](https://segment.com/docs/sources/server/python/)\n",
    "- [Segment Webhooks Destination](https://segment.com/docs/destinations/webhooks/)\n",
    "\n",
    "\n"
   ]
  },
  {
   "cell_type": "markdown",
   "metadata": {},
   "source": [
    "\n",
    "<a id=\"setup\"></a>\n",
    "\n",
    "# 1. Setup\n",
    "\n",
    "  \n",
    "  \n",
    "<div class=\"alert alert-block alert-info\">\n",
    "<b>What do we need to set up for our sample application?</b>  \n",
    "    \n",
    "+ A connection to a running <b>IBM Streams instance</b> <br> \n",
    "   This notebook describes using a Streams instance in IBM Cloud Pak for Data. \n",
    "+ <b>streamsx.topology</b> - the Python package providing the IBM Streams standard/basic function set.\n",
    "+ <b>streamsx.endpoint</b> - the Python package providing the IBM Streams endpoint functionality.\n",
    "+ <b>Segment account</b> - easily [sign up](https://app.segment.com/signup/) at Segment. The free 'Developer' plan will suffice for this sample.\n",
    "</div>\n",
    "\n",
    "\n",
    "\n",
    "<a id=\"setupStreams\"></a>\n",
    "\n",
    "## 1.1 Add credentials and connection information for the IBM Streams instance\n",
    "\n",
    "This notebook is running in IBM Cloud Pak for Data and we are using an IBM Streams instance running in IBM Cloud Pak for Data.<br>\n",
    "To get all required information to connect to the Streams instance, change the instance name in the cell below to the name of the<br>\n",
    "instance that you plan to use:\n",
    "\n",
    "- From the navigation menu, click My instances.\n",
    "- Click the Provisioned Instances tab.\n",
    "- Update the value of streams_instance_name in the cell below according to your Streams instance name.\n",
    "\n"
   ]
  },
  {
   "cell_type": "code",
   "execution_count": null,
   "metadata": {},
   "outputs": [],
   "source": [
    "\n",
    "from icpd_core import icpd_util\n",
    "streams_instance_name = 'sample-streams'     ## Insert the name of your Streams instance here\n",
    "cfg=icpd_util.get_service_instance_details(name=streams_instance_name)\n"
   ]
  },
  {
   "cell_type": "markdown",
   "metadata": {},
   "source": [
    "<a id=\"setupPackages\"></a>\n",
    "\n",
    "## 1.2 Install or upgrade streamsx Python packages\n",
    "\n",
    "As described in [Overview](#overview), we need the Python packages providing the Streams functionality to create streaming applications using Python, __streamsx__ and __streamsx.endpoint__.<br>\n",
    "Run the cell below to upgrade and check which version of the packages is installed.   "
   ]
  },
  {
   "cell_type": "code",
   "execution_count": null,
   "metadata": {},
   "outputs": [],
   "source": [
    "import sys\n",
    "\n",
    "sys.path.insert(0, '/home/wsuser/.local/lib/python3.6/site-packages')\n",
    "\n",
    "#!{sys.executable} -m pip install --user --upgrade streamsx\n",
    "!{sys.executable} -m pip install --user --upgrade streamsx.endpoint\n",
    "\n",
    "# When you need to install a specific version of the package, run this line instead:\n",
    "#!{sys.executable} -m pip install --user streamsx==somever\n",
    "#!{sys.executable} -m pip install --user streamsx.endpoint==somever\n",
    "\n",
    "# show the installed versions of both packages\n",
    "import streamsx.topology.context\n",
    "import streamsx.endpoint as ep\n",
    "print(\"INFO: streamsx.topology.context package version: \" + streamsx.topology.context.__version__)\n",
    "print(\"INFO: streamsx.endpoint package version: \" + ep.__version__)\n",
    "\n",
    "#For more details uncomment lines below.\n",
    "#!pip show streamsx\n",
    "#print(cfg)\n"
   ]
  },
  {
   "cell_type": "code",
   "execution_count": null,
   "metadata": {},
   "outputs": [],
   "source": [
    "inetserver_toolkit = ep.download_toolkit()\n",
    "\n"
   ]
  },
  {
   "cell_type": "markdown",
   "metadata": {},
   "source": [
    "<a id=\"setupSegment\"></a>\n",
    "\n",
    "## 1.3 Install or upgrade Segment Python packages\n",
    "\n",
    "We use Segment's Python Source API to send data into Segment.\n",
    " "
   ]
  },
  {
   "cell_type": "code",
   "execution_count": null,
   "metadata": {},
   "outputs": [],
   "source": [
    "#import sys\n",
    "!{sys.executable} -m pip install --user --upgrade analytics-python\n",
    "\n",
    "# show the installed versions of both packages\n",
    "import analytics\n",
    "print(\"INFO: analytics package version: \" + analytics.__version__)"
   ]
  },
  {
   "cell_type": "markdown",
   "metadata": {},
   "source": [
    "<a id=\"dataProcessingClassesFunctions\"></a>\n",
    "\n",
    "# 2. Data processing classes and functions\n",
    "\n",
    "First we create some basic data objects containing some of the [common fields](https://segment.com/docs/spec/common/) defined by the Segment API.<br>\n",
    "These data objects are then used in a class randomly generating data sets and which is connected with a Streams source. It simulates data\n",
    "that is received via a Segment Webhook destination.\n"
   ]
  },
  {
   "cell_type": "markdown",
   "metadata": {},
   "source": [
    "<a id=\"dataGeneratorClass\"></a>\n",
    "\n",
    "## 2.1 Data generator class\n",
    "\n",
    "The following class randomly generates data sets mimicking what we would receive, if we connect to a Segment Webhook destination."
   ]
  },
  {
   "cell_type": "code",
   "execution_count": null,
   "metadata": {},
   "outputs": [],
   "source": [
    "import datetime\n",
    "import json\n",
    "import random\n",
    "import sys\n",
    "import time\n",
    "\n",
    "\n",
    "class WebhookDataSource(object):\n",
    "    \n",
    "    def __init__(self):\n",
    "        print(\"INFO: Webhook Data Source starting up\")\n",
    "        self.msgId           = random.randrange(83657)\n",
    "        self.anonymousIds    = [\"anon124298\", \"anon215107\", \"anon306016\", \"anon497925\", \"anon588834\"]\n",
    "        self.userIds         = [\"f4ca124298\", \"g3da215107\", \"h2ea306016\", \"i1fa497925\", \"j0ga588834\"]\n",
    "        self.userIdCount     = len(self.userIds)\n",
    "        self.userTraits      = {\"f4ca124298\" : {\"name\": \"Liam McAnnac\", \"email\" : \"liam@rebcom.org\",   \"created_at\": \"today\", \"age\" : 26 }, # str(datetime.datetime.now()\n",
    "                                \"g3da215107\" : {\"name\": \"Doug Shmyson\", \"email\" : \"doug@darkstar.com\", \"created_at\": \"today\", \"age\" : 51 },\n",
    "                                \"h2ea306016\" : {\"name\": \"Sid Kattmal\",  \"email\" : \"sid@darkstar.com\",  \"created_at\": \"today\", \"age\" : 63 },\n",
    "                                \"i1fa497925\" : {\"name\": \"Pria Leed\",    \"email\" : \"pria@rebcom.org\",   \"created_at\": \"today\" },\n",
    "                                \"j0ga588834\" : {\"name\": \"Hans Olod\",    \"email\" : \"hans@consmug.com\",  \"created_at\": \"today\", \"age\" : 31 }\n",
    "                               }\n",
    "        self.groupIds        = {\"f4ca124298\" : \"7f8eg221bd\",\n",
    "                                \"g3da215107\" : \"6g7fh110ce\",\n",
    "                                \"h2ea306016\" : \"5h6gi009cf\",\n",
    "                                \"i1fa497925\" : \"4i5hj988dg\",\n",
    "                                \"j0ga588834\" : \"3j4ik877eh\"\n",
    "                               }\n",
    "        self.groupTraits     = {\"7f8eg221bd\" : {\"employees\" :  753, \"industry\" : \"Agriculture\", \"name\" : \"Crops Inc.\"},\n",
    "                                \"6g7fh110ce\" : {\"employees\" : 1134, \"industry\" : \"Banking\",     \"name\" : \"Money Transfers 4U\"},\n",
    "                                \"5h6gi009cf\" : {\"employees\" :  877, \"industry\" : \"Technology\",  \"name\" : \"Computers, Parts, and Gadgets\"},\n",
    "                                \"4i5hj988dg\" : {\"employees\" : 9654, \"industry\" : \"Retail\",      \"name\" : \"Stuv\"},\n",
    "                                \"3j4ik877eh\" : {\"employees\" :  162, \"industry\" : \"Services\",    \"name\" : \"Call Center Services\"}\n",
    "                               }\n",
    "        self.previousIds     = {\"f4ca124298\" : \"40340-128128-340340-12812\",\n",
    "                                \"g3da215107\" : \"51451-017017-451451-01701\",\n",
    "                                \"h2ea306016\" : \"62562-906906-562562-90690\",\n",
    "                                \"i1fa497925\" : \"73673-895895-673673-89589\",\n",
    "                                \"j0ga588834\" : \"84784-784784-784784-78478\"\n",
    "                               }\n",
    "        # The more a call is listed the greater is its probability to occur\n",
    "        self.apiCallTypes    = [\"identify\", \"track\", \"page\", \"group\", \"track\", \"page\", \"alias\", \"identify\", \"track\", \"page\"]\n",
    "        self.apiCallTypeCount= len(self.apiCallTypes)\n",
    "        self.deviceTemplate  = {\"name\" : \"Apple iPhone 6\", \"type\" : \"phone\"}\n",
    "        self.libraryTemplate = {\"name\" : \"unknown\", \"version\" : \"unknown\"}\n",
    "        self.requestTemplate = {\"channel\" : \"server\",\n",
    "                                \"context\" : {},\n",
    "                                \"integrations\" : {}, \n",
    "                                \"messageId\" : \"\",\n",
    "                                \"originalTimestamp\" : \"\",\n",
    "                                \"projectId\" : \"3bFLcRDK4t\",\n",
    "                                \"receivedAt\" : \"\",\n",
    "                                \"sentAt\" : \"\",    # null\n",
    "                                \"timestamp\" : \"\",\n",
    "                                \"type\" : \"\",\n",
    "                                \"userId\" : \"\",\n",
    "                                \"version\" : 2,\n",
    "                                \"writeKey\" : \"mjtapfQAUJ1hiBnfBb7MmBXg0d4UIdLz\"\n",
    "                               }\n",
    "        self.eventNames      = [\"Item Purchased\", \"Song Played\"]\n",
    "        self.eventNamesCount = len(self.eventNames)\n",
    "        self.purchasables    = [ {\"name\" : \"NFL Super Grip Football\", \"revenue\" : 14.00}\n",
    "                                ,{\"name\" : \"Bucket of Baseballs\", \"revenue\" : 129.99}\n",
    "                                ,{\"name\" : \"NBA Street Basketball\", \"revenue\" : 17.44}\n",
    "                                ,{\"name\" : \"World Cup Top Glider\", \"revenue\" : 22.50}\n",
    "                               ]\n",
    "        self.purchasablesCount = len(self.purchasables)\n",
    "        self.songs           = [ {\"artist\" : \"Dropkick Murphys\", \"name\" : \"Shipping up to Boston\"}\n",
    "                                ,{\"artist\" : \"Boy Harsher\", \"name\" : \"Fate\"}\n",
    "                                ,{\"artist\" : \"Suede\", \"name\" : \"Life is Golden\"}\n",
    "                                ,{\"artist\" : \"LoneLady\", \"name\" : \"Hinterland\"}\n",
    "                                ,{\"artist\" : \"Taj Weekes\", \"name\" : \"Vibe Up\"}\n",
    "                                ,{\"artist\" : \"Andrew Bird\", \"name\" : \"Sisyphus\"}\n",
    "                                ,{\"artist\" : \"Mine\", \"name\" : \"90 Grad\"}\n",
    "                                ,{\"artist\" : \"The Pogues\", \"name\" : \"Bottle of Smoke\"}\n",
    "                                ,{\"artist\" : \"BRONCHO\", \"name\" : \"All Choked Up\"}\n",
    "                                ,{\"artist\" : \"Betta Lemme\", \"name\" : \"Kick the Door\"}\n",
    "                               ]\n",
    "        self.songsCount      = len(self.songs)\n",
    "        \n",
    "\n",
    "    def __enter__(self):\n",
    "        print(\"INFO: Webhook Data Source starting up\")\n",
    "\n",
    "    def __exit__(self, excptn_type, excptn_value, traceback):\n",
    "        if excptn_type or excptn_value or traceback:\n",
    "            print(\"WARN: Some exception\")\n",
    "        else:\n",
    "            print(\"Process is shutting down\")\n",
    "\n",
    "        \n",
    "    def generateMessageId(self):\n",
    "        self.msgId += 1\n",
    "        return \"api-1PSJfRahchop5sGtdqgF8\" + \"{:06d}\".format(self.msgId)\n",
    "\n",
    "    \n",
    "    def createContext(self, callType, eventName):\n",
    "        context = {}\n",
    "        context[\"library\"] = dict(self.libraryTemplate)\n",
    "\n",
    "        if callType == \"identify\":\n",
    "            context[\"device\"]  = dict(self.deviceTemplate)\n",
    "            \n",
    "        if callType == \"track\":\n",
    "            if eventName == \"Item Purchased\":\n",
    "                context[\"ip\"]  = str(random.randrange(20,60)) + \".\" + str(random.randrange(0,10)) + \".\" + str(random.randrange(60,70)) + \".\" + str(random.randrange(40,50))\n",
    "            if eventName == \"Song Played\":\n",
    "                context[\"device\"]  = dict(self.deviceTemplate)\n",
    "            \n",
    "        #if callType == \"page\":\n",
    "        #if callType == \"group\":\n",
    "        #if callType == \"alias\":\n",
    "        \n",
    "        return context\n",
    "\n",
    "    \n",
    "    def createRequest(self, userId, callType, dateTimeString):\n",
    "        request = dict(self.requestTemplate)\n",
    "        \n",
    "        # The following line doesn't work, as 'datetime' cannot be found\n",
    "        #now = str(datetime.datetime.now())\n",
    "        \n",
    "        request[\"userId\"]            = userId\n",
    "        request[\"type\"]              = callType\n",
    "        request[\"messageId\"]         = self.generateMessageId()\n",
    "        request[\"originalTimestamp\"] = dateTimeString\n",
    "        request[\"receivedAt\"]        = dateTimeString\n",
    "        request[\"timestamp\"]         = dateTimeString\n",
    "        \n",
    "        if callType == \"identify\":\n",
    "            request[\"traits\"] = dict(self.userTraits[userId])\n",
    "        \n",
    "        eventName = \"\"\n",
    "        if callType == \"track\":\n",
    "            eventName = self.eventNames[random.randrange(self.eventNamesCount)]\n",
    "            if eventName == \"Item Purchased\":\n",
    "                request[\"properties\"] = self.purchasables[random.randrange(self.purchasablesCount)]\n",
    "            if eventName == \"Song Played\":\n",
    "                request[\"properties\"] = self.songs[random.randrange(self.songsCount)]\n",
    "\n",
    "        if callType == \"page\":\n",
    "            request[\"name\"] = \"Tracking HTTP API\"\n",
    "            \n",
    "        if callType == \"group\":\n",
    "            request[\"groupId\"] = self.groupIds[userId]\n",
    "            request[\"traits\"]  = dict(self.groupTraits[self.groupIds[userId]])\n",
    "\n",
    "        if callType == \"alias\":\n",
    "            request[\"previousId\"] = self.previousIds[userId]\n",
    "\n",
    "        request[\"context\"] = self.createContext(callType, eventName)\n",
    "\n",
    "        return request\n",
    "\n",
    "    \n",
    "    def __call__(self):\n",
    "        while True:\n",
    "            time.sleep(random.uniform(0.0, 0.3))\n",
    "            userId      = self.userIds[random.randrange(self.userIdCount)]\n",
    "            apiCallType = self.apiCallTypes[random.randrange(self.apiCallTypeCount)]\n",
    "            request     = self.createRequest(userId, apiCallType, str(datetime.datetime.now()))\n",
    "            #yield json.dumps(request, indent=3)\n",
    "            yield request\n"
   ]
  },
  {
   "cell_type": "markdown",
   "metadata": {},
   "source": [
    "<a id=\"countIdentifyData\"></a>\n",
    "\n",
    "## 2.2 Class that counts Identify events in a batch\n",
    "\n",
    "The class defines a batch function that counts the number of Identify messages per user and collects the data in a dictionary."
   ]
  },
  {
   "cell_type": "code",
   "execution_count": null,
   "metadata": {},
   "outputs": [],
   "source": [
    "class IdentifyCounter:\n",
    "    def __call__(self, tuples_in_batch):\n",
    "        # Create a null initialized dict of all userIds in this batch\n",
    "        userIdsInBatch = [tpl[\"userId\"] for tpl in tuples_in_batch] \n",
    "        userIdsInBatch.sort()\n",
    "        #print(userIdsInBatch, file=sys.stdout)\n",
    "        userIdentifyCounter = dict.fromkeys(userIdsInBatch, 0)\n",
    "        \n",
    "        # Count the Identify events per userId\n",
    "        for tpl in tuples_in_batch:\n",
    "            if tpl[\"type\"] == \"identify\":\n",
    "                userIdentifyCounter[tpl[\"userId\"]] += 1\n",
    "        \n",
    "        print(userIdentifyCounter, file=sys.stdout)\n",
    "        sys.stdout.flush()\n",
    "    \n",
    "        return userIdentifyCounter\n"
   ]
  },
  {
   "attachments": {
    "determinePythonSourceWriteKeyMarked.png": {
     "image/png": "[encoded data removed]"
    }
   },
   "cell_type": "markdown",
   "metadata": {},
   "source": [
    "<a id=\"sinkFunction\"></a>\n",
    "\n",
    "## 2.3 The sink function\n",
    "\n",
    "The following cell defines a function which works as a sink in the Streams application. It takes the output of the IdentifyCounter  \n",
    "class and uses Segment's Python API to produce a new Track event for every entry in the dictionary.  \n",
    "The Segment Python API needs your Write Key to be allowed to send data. You can determine your key when you log in to your  \n",
    "Segment workspace and open the page for your Python source.\n",
    "\n",
    "![determinePythonSourceWriteKeyMarked.png](attachment:determinePythonSourceWriteKeyMarked.png)\n"
   ]
  },
  {
   "cell_type": "code",
   "execution_count": null,
   "metadata": {},
   "outputs": [],
   "source": [
    "import analytics\n",
    "import sys\n",
    "\n",
    "def sendIdentifyAggregateEvents(tuple):\n",
    "    #analytics.write_key = segmentWriteKey\n",
    "    analytics.write_key = '1m1YI75eGQgFkktC4t1RwQvlCloiAFTD'\n",
    "    for userId in tuple.keys():\n",
    "        props = { 'timesIdentified' : tuple[userId]}\n",
    "        analytics.track(userId, '\"User Identified in Batch\"', props)\n",
    "        \n",
    "\n",
    "# A pass-through filter needed to attach a view at subscribe's output\n",
    "def alwaysTrueFilter(tuple):\n",
    "    return True\n"
   ]
  },
  {
   "cell_type": "markdown",
   "metadata": {},
   "source": [
    "<a id=\"createApplication\"></a>\n",
    "\n",
    "# 3. Create the application\n",
    "\n",
    "We will split our application into three parts. Two applications that publish mock-up repectively real Webhook data,  \n",
    "The third application consumes the data, transforms it, and creates new \"Track\" events for the Segment service.\n",
    "\n",
    "For more information refer to: [IBM Streams Python support](https://streamsxtopology.readthedocs.io/en/stable/index.html)."
   ]
  },
  {
   "cell_type": "markdown",
   "metadata": {},
   "source": [
    "<a id=\"mockupWebhookDataPublisher\"></a>\n",
    "\n",
    "## 3.1 Mock-up Webhook data publisher\n",
    "\n",
    "This small application creates a topology introducing the generator class as a source. It then publishes the source's data for other applications to consume.\n"
   ]
  },
  {
   "cell_type": "code",
   "execution_count": null,
   "metadata": {},
   "outputs": [],
   "source": [
    "from streamsx.topology.schema import CommonSchema\n",
    "from streamsx.topology.topology import Topology\n",
    "\n",
    "# Create topology\n",
    "mockupDataTopo = Topology(name=\"MockupWebhookData\")\n",
    "\n",
    "# Use WebhookDataSource as a Streams source\n",
    "mockupDataStream = mockupDataTopo.source(WebhookDataSource())\n",
    "\n",
    "# Attach a view to watch the data stream when running\n",
    "mockupDataStream_view = mockupDataStream.view(name=\"Mockup data\", description=\"Mockup data stream\")\n",
    "\n",
    "# Publish mockup data\n",
    "mockupDataStream.publish(topic=\"SegmentWebhookData\", schema=CommonSchema.Json, name=\"MockupWebhookData\")\n"
   ]
  },
  {
   "cell_type": "markdown",
   "metadata": {},
   "source": [
    "### Submit the \"Mock-up Webhook data publisher\" job"
   ]
  },
  {
   "cell_type": "code",
   "execution_count": null,
   "metadata": {},
   "outputs": [],
   "source": [
    "from streamsx.topology import context\n",
    "\n",
    "# Disable SSL certificate verification if necessary\n",
    "cfg[context.ConfigParams.SSL_VERIFY] = False\n",
    "\n",
    "# submit the topology\n",
    "submissionResultMockupData = context.submit (\"DISTRIBUTED\", mockupDataTopo, config=cfg)\n",
    "#print(submissionResultMockupData)\n",
    "\n",
    "# The submission_result object contains information about the running application, or job\n",
    "mockupDataJob = None\n",
    "if submissionResultMockupData.job:\n",
    "    mockupDataJob = submissionResultMockupData.job\n",
    "    print (\"JobId: \", mockupDataJob.id , \"\\nJob name: \", mockupDataJob.name)\n"
   ]
  },
  {
   "cell_type": "markdown",
   "metadata": {},
   "source": [
    "### Inspect the data using a view"
   ]
  },
  {
   "cell_type": "code",
   "execution_count": null,
   "metadata": {},
   "outputs": [],
   "source": [
    "from streamsx.topology import context\n",
    "\n",
    "# Show 5 seconds of raw webhook data\n",
    "if mockupDataJob:\n",
    "    queue = mockupDataStream_view.start_data_fetch()\n",
    "    timeSpan = time.time() + 5;\n",
    "    while time.time() < timeSpan:\n",
    "        print(queue.get())\n",
    "    mockupDataStream_view.stop_data_fetch()"
   ]
  },
  {
   "cell_type": "markdown",
   "metadata": {},
   "source": [
    "### Cancel the job\n",
    "\n",
    "The following cell generates a widget you can use to cancel the job. If you cancel a job publishing data, jobs still subscribed to it will not receive data afterwards."
   ]
  },
  {
   "cell_type": "code",
   "execution_count": null,
   "metadata": {},
   "outputs": [],
   "source": [
    "# Cancel job button\n",
    "submissionResultMockupData.cancel_job_button()\n"
   ]
  },
  {
   "cell_type": "markdown",
   "metadata": {},
   "source": [
    "<a id=\"webhookDataPublisher\"></a>\n",
    "\n",
    "## 3.2 Webhook data publisher\n",
    "\n",
    "This small application creates a topology using streamsx.endpoint.inject() as a source. It, too, publishes the source's data for other applications to consume. Using the defaults, 'inject())' is reached via the URL: http://localhost:8080/HTTPJSONInjection/ports/output/0/inject .\n"
   ]
  },
  {
   "cell_type": "code",
   "execution_count": null,
   "metadata": {},
   "outputs": [],
   "source": [
    "from streamsx.topology.topology import *\n",
    "from streamsx.topology.schema import *\n",
    "import streamsx.topology.context\n",
    "import streamsx.endpoint as endpoint\n",
    "\n",
    "\n",
    "# Create topology\n",
    "webhookDataTopo = Topology(name=\"WebhookData\")\n",
    "\n",
    "# Add Segment's Python API to Streams application context\n",
    "webhookDataTopo.add_pip_package('analytics-python')\n",
    "\n",
    "\n",
    "# Use WebhookDataSource as a Streams source\n",
    "# Injection URL (application/json): /x/y/ports/output/0/inject\n",
    "#webhookDataStream = ep.inject(webhookDataTopo, context='streams-segment-sample', name='jsoninject', monitor='endpoint-monitor')\n",
    "webhookDataStream = ep.inject(webhookDataTopo, context='streams-segment-sample', name='jsoninject', monitor=None)\n",
    "\n",
    "# Attach a view to watch the data stream when running\n",
    "webhookDataStream_view = webhookDataStream.view(name=\"Webhook data\", description=\"Webhook data stream\")\n",
    "\n",
    "\n",
    "# Publish mockup data\n",
    "webhookDataStream.publish(topic=\"SegmentWebhookDataInJson\", schema=CommonSchema.Json, name=\"WebhookData\")\n"
   ]
  },
  {
   "cell_type": "markdown",
   "metadata": {},
   "source": [
    "### Submit the \"Webhook data publisher\" job"
   ]
  },
  {
   "cell_type": "code",
   "execution_count": null,
   "metadata": {},
   "outputs": [],
   "source": [
    "from streamsx.topology import context\n",
    "from streamsx.spl.toolkit import add_toolkit\n",
    "\n",
    "add_toolkit(webhookDataTopo, inetserver_toolkit)\n",
    "\n",
    "# Disable SSL certificate verification if necessary\n",
    "cfg[context.ConfigParams.SSL_VERIFY] = False\n",
    "\n",
    "# Give the job a unique name \n",
    "job_config = context.JobConfig(tracing='info', job_name='segment-webhook-peer')\n",
    "job_config.add(cfg)\n",
    "\n",
    "# submit the topology\n",
    "submissionResultWebhookData = None\n",
    "submissionResultWebhookData = context.submit (\"DISTRIBUTED\", webhookDataTopo, config=cfg)    # Currently - as the INetserver toolkit isn't installed, this runs into:    CDISP0053E ERROR: An unknown identifier was referenced in the SPL program: com.ibm.streamsx.inet.rest::HTTPJSONInjection.\n",
    "print(submissionResultWebhookData)\n",
    "\n",
    "# The submission_result object contains information about the running application, or job\n",
    "webhookDataJob = None\n",
    "if submissionResultWebhookData != None and submissionResultWebhookData.job:\n",
    "    webhookDataJob = submissionResultWebhookData.job\n",
    "    print (\"JobId: \", webhookDataJob.id , \"\\nJob name: \", webhookDataJob.name)\n"
   ]
  },
  {
   "cell_type": "markdown",
   "metadata": {},
   "source": [
    "### Inspect the data using a view"
   ]
  },
  {
   "cell_type": "code",
   "execution_count": null,
   "metadata": {},
   "outputs": [],
   "source": [
    "!curl -k --header 'Content-Type: application/json' --request POST --data '{\"item1\":\"a\",\"item2\":\"a\"}'  https://streams-endpointmonitor:8443/segment-webhook-peer/streams-segment-sample/jsoninject/ports/output/0/inject"
   ]
  },
  {
   "cell_type": "code",
   "execution_count": null,
   "metadata": {},
   "outputs": [],
   "source": [
    "from streamsx.topology import context\n",
    "\n",
    "# Show 5 seconds of raw webhook data\n",
    "if webhookDataJob:\n",
    "    queue = webhookDataStream_view.start_data_fetch()\n",
    "    timeSpan = time.time() + 5;\n",
    "    while time.time() < timeSpan:\n",
    "        print(queue.get())\n",
    "    webhookDataStream_view.stop_data_fetch()"
   ]
  },
  {
   "cell_type": "markdown",
   "metadata": {},
   "source": [
    "### Cancel the job\n",
    "\n",
    "The following cell generates a widget you can use to cancel the job. If you cancel a job publishing data, jobs still subscribed to it will not receive data afterwards."
   ]
  },
  {
   "cell_type": "code",
   "execution_count": null,
   "metadata": {},
   "outputs": [],
   "source": [
    "# Cancel job button\n",
    "if submissionResultWebhookData != None:\n",
    "    submissionResultWebhookData.cancel_job_button()\n"
   ]
  },
  {
   "cell_type": "markdown",
   "metadata": {},
   "source": [
    "<a id=\"streamsSegmentIntegration\"></a>\n",
    "\n",
    "## 3.3 Streams Segment Integration\n",
    "\n",
    "The application creates a topology that subscribes to the topic used by above applications. It then transforms some of the data and sends a new 'Track' event to Segment."
   ]
  },
  {
   "cell_type": "code",
   "execution_count": null,
   "metadata": {},
   "outputs": [],
   "source": [
    "from streamsx.topology.topology import Topology\n",
    "import streamsx.topology.context\n",
    "\n",
    "\n",
    "# Create topology\n",
    "segmentTopo = Topology(name=\"StreamsSegmentIntegration\")\n",
    "\n",
    "# Add Segment's Python API to Streams application context\n",
    "segmentTopo.add_pip_package('analytics-python')\n",
    "\n",
    "# Use WebhookDataSource as a Streams source\n",
    "webhookDataStream = segmentTopo.subscribe(topic=\"SegmentWebhookData\", schema=CommonSchema.Json)\n",
    "\n",
    "# A clutch to attach a view to subscribe()'s output\n",
    "filteredWebhookDataStream = webhookDataStream.filter(alwaysTrueFilter)\n",
    "\n",
    "# Attach a view to watch the data stream when running\n",
    "webhookDataStream_view = filteredWebhookDataStream.view(name=\"Webhook data\", description=\"Webhook data stream\")\n",
    "\n",
    "# Define a batch window and count Identify events per user\n",
    "webhookDataBatch = filteredWebhookDataStream.batch(20)\n",
    "identifyEventCount = webhookDataBatch.aggregate(IdentifyCounter())\n",
    "identifyEventCount_view = identifyEventCount.view(name=\"IdentifyEventCounts\", description=\"Data set containing the count of Identify events per user for the last batch\");\n",
    "\n",
    "identifyEventCount.for_each(sendIdentifyAggregateEvents)\n"
   ]
  },
  {
   "cell_type": "markdown",
   "metadata": {},
   "source": [
    "### Submit the application\n",
    "\n",
    "The next cell submits the application for execution and prints the resulting job id.\n"
   ]
  },
  {
   "cell_type": "code",
   "execution_count": null,
   "metadata": {},
   "outputs": [],
   "source": [
    "from streamsx.topology import context\n",
    "\n",
    "# Disable SSL certificate verification if necessary\n",
    "cfg[context.ConfigParams.SSL_VERIFY] = False\n",
    "\n",
    "# submit the topology\n",
    "submissionResult = context.submit (\"DISTRIBUTED\", segmentTopo, config = cfg)\n",
    "#print(submission_result)\n",
    "\n",
    "# The submission_result object contains information about the running application, or job\n",
    "streamsJob = None\n",
    "if submissionResult.job:\n",
    "    streamsJob = submissionResult.job\n",
    "    print (\"JobId: \", streamsJob.id , \"\\nJob name: \", streamsJob.name)\n"
   ]
  },
  {
   "cell_type": "markdown",
   "metadata": {},
   "source": [
    "### Use the views to access data from the job\n",
    "\n",
    "Now that the job is started, use the `View` objects you created before to start viewing data from a `Stream`."
   ]
  },
  {
   "cell_type": "code",
   "execution_count": null,
   "metadata": {},
   "outputs": [],
   "source": [
    "from streamsx.topology import context\n",
    "\n",
    "# Show 5 seconds of raw webhook data\n",
    "if streamsJob:\n",
    "    queue = webhookDataStream_view.start_data_fetch()\n",
    "    timeSpan = time.time() + 5;\n",
    "    while time.time() < timeSpan:\n",
    "        print(queue.get())\n",
    "    webhookDataStream_view.stop_data_fetch()"
   ]
  },
  {
   "cell_type": "code",
   "execution_count": null,
   "metadata": {
    "scrolled": true
   },
   "outputs": [],
   "source": [
    "from streamsx.topology import context\n",
    "\n",
    "# Show 30 seconds of aggregated identify data\n",
    "if streamsJob:\n",
    "    queue = identifyEventCount_view.start_data_fetch()\n",
    "    timeSpan = time.time() + 30;\n",
    "    while time.time() < timeSpan:\n",
    "        print(queue.get())\n",
    "    identifyEventCount_view.stop_data_fetch()\n"
   ]
  },
  {
   "cell_type": "markdown",
   "metadata": {},
   "source": [
    "<b> Display the results in real time</b>  \n",
    "\n",
    "Calling `View.display()` from the notebook displays the results of the view in a table that is updated in real-time."
   ]
  },
  {
   "cell_type": "code",
   "execution_count": null,
   "metadata": {
    "scrolled": true
   },
   "outputs": [],
   "source": [
    "# Display the results for 30 seconds\n",
    "#identifyEventCount_view.display(duration=30)"
   ]
  },
  {
   "cell_type": "markdown",
   "metadata": {},
   "source": [
    "<b> See job status </b>  \n",
    "\n",
    "You can view job status and logs by going to **My Instances** > **Jobs**. Find your job based on the id printed above.\n",
    "Retrieve job logs using the \"Download logs\" action from the job's context menu.\n",
    "\n",
    "To view other information about the job such as detailed metrics, access the Streams Console.  Go to **My Instances** > **Provisioned Instances**. Select the Streams instance and open the URL listed under *externalConsoleEndpoint* or *serviceConsoleEndpoint*."
   ]
  },
  {
   "cell_type": "markdown",
   "metadata": {},
   "source": [
    "### Cancel the job\n",
    "\n",
    "The following cell generates a widget you can use to cancel the job. If you cancel a job publishing data, jobs still subscribed to it will not receive data afterwards."
   ]
  },
  {
   "cell_type": "code",
   "execution_count": null,
   "metadata": {
    "scrolled": true
   },
   "outputs": [],
   "source": [
    "# Cancel job button\n",
    "submissionResult.cancel_job_button()\n"
   ]
  },
  {
   "cell_type": "markdown",
   "metadata": {},
   "source": [
    "<a name=\"cancel\"></a>\n",
    "\n",
    "# 4. Cancel all jobs\n",
    "\n",
    "The following cell interacts with the jobs through the [Job](https://streamsxtopology.readthedocs.io/en/stable/streamsx.rest_primitives.html#streamsx.rest_primitives.Job) object returned from submission. It uses `job.cancel()` to cancel the running jobs directly."
   ]
  },
  {
   "cell_type": "code",
   "execution_count": null,
   "metadata": {},
   "outputs": [],
   "source": [
    "# Cancel all jobs without displaying a button\n",
    "#if streamsJob != None:\n",
    "#    streamsJob.cancel()\n",
    "#if webhookDataJob != None:\n",
    "#    webhookDataJob.cancel()\n",
    "#if mockupDataJob != None:\n",
    "#    mockupDataJob.cancel()\n"
   ]
  },
  {
   "cell_type": "markdown",
   "metadata": {},
   "source": [
    "# Summary\n",
    "\n",
    "We have seen how we can receive data sent from a Segment Webhook destination into a Streams application. In the Streams Python application we can easily access the data elements of a dynamic data model and process the data to gain new insights. Finally, we have seen that we can send these insights back into Segment using their Python API. This shows, that Streams running in a notebook can become a Segment Python server source.\n"
   ]
  },
  {
   "cell_type": "code",
   "execution_count": null,
   "metadata": {},
   "outputs": [],
   "source": []
  }
 ],
 "metadata": {
  "anaconda-cloud": {},
  "kernelspec": {
   "display_name": "Python 3.6",
   "language": "python",
   "name": "python3"
  },
  "language_info": {
   "codemirror_mode": {
    "name": "ipython",
    "version": 3
   },
   "file_extension": ".py",
   "mimetype": "text/x-python",
   "name": "python",
   "nbconvert_exporter": "python",
   "pygments_lexer": "ipython3",
   "version": "3.6.8"
  }
 },
 "nbformat": 4,
 "nbformat_minor": 1
}
