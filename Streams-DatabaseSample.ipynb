{
 "cells": [
  {
   "cell_type": "markdown",
   "metadata": {},
   "source": [
    "# IBM Streams database sample application\n",
    "This sample demonstrates creating a Streams Python application to connect to a Db2 database, performing some analytics, and viewing the results.\n",
    "\n",
    "In this notebook, you'll see examples of how to:\n",
    "1. [Setup your database connection](#setup)\n",
    "2. [Create the application](#create)\n",
    "3. [Submit the application](#submit)\n",
    "4. [Connect to the running application to view data](#view)\n",
    "\n",
    "# Overview\n",
    "**About the sample**\n",
    "\n",
    "This application simulates data tuples that are inserted as rows into a Db2 database table.\n",
    "\n",
    "**How it works**\n",
    "   \n",
    "The Python application created in this notebook is submitted to the IBM Streams service for execution. Once the application is running in the service, you can connect to it from the notebook to retrieve the results.\n",
    "\n",
    "<img src=\"https://developer.ibm.com/streamsdev/wp-content/uploads/sites/15/2019/04/how-it-works.jpg\" alt=\"How it works\">\n",
    "\n",
    "\n",
    "### Documentation\n",
    "- [Streams Python development guide](https://ibmstreams.github.io/streamsx.documentation/docs/latest/python/)\n",
    "- [Streams Python API](https://streamsxtopology.readthedocs.io/)\n",
    "\n",
    "\n",
    "\n",
    "## <a name=\"setup\"> </a> 1. Setup\n",
    "\n",
    "### 1.1 Add credentials for the IBM Streams service\n",
    "\n",
    "In order to submit a Streams application you need to provide the name of the Streams instance.\n",
    "\n",
    "1. From the navigation menu, click **My instances**.\n",
    "2. Click the **Provisioned Instances** tab.\n",
    "3. Update the value of `streams_instance_name` in the cell below according to your Streams instance name."
   ]
  },
  {
   "cell_type": "code",
   "execution_count": null,
   "metadata": {},
   "outputs": [],
   "source": [
    "from icpd_core import icpd_util\n",
    "streams_instance_name = \"sample-streams\" ## Change this to Streams instance\n",
    "cfg=icpd_util.get_service_instance_details(name=streams_instance_name)"
   ]
  },
  {
   "cell_type": "markdown",
   "metadata": {},
   "source": [
    "### 1.2 Import  the `streamsx.database` package and verify the package version"
   ]
  },
  {
   "cell_type": "code",
   "execution_count": null,
   "metadata": {},
   "outputs": [],
   "source": [
    "import streamsx.database as db\n",
    "import streamsx.topology.context\n",
    "print(\"INFO: streamsx package version: \" + streamsx.topology.context.__version__)\n",
    "print(\"INFO: streamsx.database package version: \" + db.__version__)"
   ]
  },
  {
   "cell_type": "markdown",
   "metadata": {},
   "source": [
    "### <a name=\"credentials\"> </a> 1.3 Configure the connection to Db2 Warehouse\n",
    "\n",
    "We need Db2 credentials to connect to a Db2 database."
   ]
  },
  {
   "cell_type": "markdown",
   "metadata": {},
   "source": [
    "### 1.3.1 Use a configured external connection\n",
    "\n",
    "Perform the steps [Connecting to data source](https://docs-icpdata.mybluemix.net/docs/content/SSQNUZ_current/com.ibm.icpdata.doc/igc/t_connect_data_sources.html) \n",
    "and create an external configuration for your Db2 connection.\n",
    "\n",
    "List the connections with the cell below:"
   ]
  },
  {
   "cell_type": "code",
   "execution_count": null,
   "metadata": {},
   "outputs": [],
   "source": [
    "ext_connections = icpd_util.get_connections('external')\n",
    "print (ext_connections)"
   ]
  },
  {
   "cell_type": "markdown",
   "metadata": {},
   "source": [
    "Change the `connection_name` and run the cell below "
   ]
  },
  {
   "cell_type": "code",
   "execution_count": null,
   "metadata": {},
   "outputs": [],
   "source": [
    "connection_name = 'auto-dashdb'\n",
    "db2credentials = icpd_util.get_connection(connection_name, conn_class='external')\n",
    "print (db2credentials)"
   ]
  },
  {
   "cell_type": "markdown",
   "metadata": {},
   "source": [
    "### 1.3.2 Use credentials from IBM cloud Db2 Warehouse service\n",
    "\n",
    "1. Create a Db2 Warehouse service on IBM cloud.\n",
    "\n",
    "  you need to have an IBM account to create a Db2 service.\n",
    "\n",
    "  https://console.bluemix.net/catalog/?search=db2\n",
    "\n",
    "2. Create a service credential for Db2 service on IBM cloud.\n",
    "3. Copy the credentials in clipboard.\n",
    "4. Uncomment and run the cell below\n",
    "4. Paste the credentials into Db2 Warehouse credentials prompt below."
   ]
  },
  {
   "cell_type": "code",
   "execution_count": null,
   "metadata": {},
   "outputs": [],
   "source": [
    "#import getpass\n",
    "#db2_service_credentials=getpass.getpass('Db2 Warehouse credentials:')"
   ]
  },
  {
   "cell_type": "code",
   "execution_count": null,
   "metadata": {},
   "outputs": [],
   "source": [
    "#import json\n",
    "#db2credentials = json.loads(db2_service_credentials)"
   ]
  },
  {
   "cell_type": "markdown",
   "metadata": {},
   "source": [
    "### 1.3.3 Custom connection\n",
    "\n",
    "If you want to use another Db2 database, you can create a dict with the following attributes:\n",
    "\n",
    "    {\n",
    "      \"username\": \"your-db-user-name\",\n",
    "      \"password\": \"your-db-password\",\n",
    "      \"jdbcurl\": \"jdbc:db2://your-db2-hostname:50000/your-database-name\"\n",
    "    }"
   ]
  },
  {
   "cell_type": "code",
   "execution_count": null,
   "metadata": {},
   "outputs": [],
   "source": [
    "#db2credentials = {\n",
    "#      \"username\": \"your-db-user-name\",\n",
    "#      \"password\": \"your-db-password\",\n",
    "#      \"jdbcurl\": \"jdbc:db2://your-db2-hostname:50000/your-database-name\"\n",
    "#    }"
   ]
  },
  {
   "cell_type": "markdown",
   "metadata": {},
   "source": [
    "# <a name=\"create\"> </a> 2. Create the application\n",
    "All Streams applications start with a Topology object, so start by creating one:\n"
   ]
  },
  {
   "cell_type": "code",
   "execution_count": null,
   "metadata": {},
   "outputs": [],
   "source": [
    "#Imports\n",
    "from streamsx.topology.topology import *\n",
    "from streamsx.topology.context import *\n",
    "from streamsx.topology.schema import StreamSchema\n",
    "import streamsx.database as db\n",
    "\n",
    "# create a Topology object\n",
    "topo = Topology(name=\"DatabaseSample\")"
   ]
  },
  {
   "cell_type": "markdown",
   "metadata": {},
   "source": [
    "\n",
    "### How to use the streamsx.database package\n",
    "The streamsx.database package is the python wrapper for the [streamsx.jdbc](https://ibmstreams.github.io/streamsx.jdbc/doc/spldoc/html) toolkit\n",
    "\n",
    "To interact with a Db2 database from Streams, you pass a SQL statement to the `streamsx.database.JDBCStatement` class.\n",
    "\n",
    "`JDBCStatement` is the main class of `streamsx.database` package.\n",
    "\n",
    "It executes a SQL statement and produces a [`Stream`](https://streamsxtopology.readthedocs.io/en/stable/streamsx.topology.topology.html#stream) of the results.\n",
    "It needs at least two mandatory parameters, the first one is the input `Stream` and the second parameter is the database credentials in JSON format.\n",
    "\n",
    "There are 2 ways to execute SQL statements using `db.JDBCStatement`:\n",
    "- `Stream` containing the statements to execute. This is used for statements like creating or dropping tables.\n",
    "- Set the `sql` parameter to the SQL statement and the `stream` contains the data you want to send to Db2. Use this when inserting data.\n",
    "\n",
    "This application will show both ways. It executes SQL statements that: \n",
    "- Drop the Db2 table, if exists.\n",
    "- Create a new table in a Db2 database.\n",
    "- Insert some rows into the table.\n",
    "- Select all rows from a table."
   ]
  },
  {
   "cell_type": "markdown",
   "metadata": {},
   "source": [
    "### Define the SQL statements and table name"
   ]
  },
  {
   "cell_type": "code",
   "execution_count": null,
   "metadata": {},
   "outputs": [],
   "source": [
    "table_name = 'RUN_SAMPLE_DEMO'\n",
    "\n",
    "# SQL statements\n",
    "sql_drop   = 'DROP TABLE ' + table_name\n",
    "sql_create = 'CREATE TABLE ' + table_name + ' (ID INT, NAME CHAR(30), AGE INT)'\n",
    "sql_insert = 'INSERT INTO ' + table_name + ' (ID, NAME, AGE) VALUES (? , ?, ?)'\n",
    "sql_select = 'SELECT * FROM ' + table_name"
   ]
  },
  {
   "cell_type": "markdown",
   "metadata": {},
   "source": [
    "## <a name=\"drop\"> </a> 2.1. Create the table\n",
    "\n",
    "\n",
    "In the following step the `topo.source` creates a `Stream` containing the two SQL statements to drop and create the table. \n",
    "\n",
    "`db.JDBCStatement` executes the two statements in the input stream, so it will drop the table and create a new table.\n"
   ]
  },
  {
   "cell_type": "code",
   "execution_count": null,
   "metadata": {},
   "outputs": [],
   "source": [
    "from streamsx.topology.schema import CommonSchema, StreamSchema\n",
    "# The crt_table is a Stream containing the two SQL statements: sql_drop and sql_create\n",
    "crt_table = topo.source([sql_drop, sql_create]).as_string()\n",
    "# drop the table if exist and create a new table in database\n",
    "crt_table.map(db.JDBCStatement(credentials=db2credentials), name='CREATE_TABLE', schema=CommonSchema.String)"
   ]
  },
  {
   "cell_type": "markdown",
   "metadata": {},
   "source": [
    "## <a name=\"insert\"> </a> 2.2. Insert streaming data into the table\n",
    "\n",
    "Next, we generate a stream of data and insert it into the table we created.\n",
    "\n",
    "The function `generate_data()` generates some data with schema `(ID INTEGER, NAME STRING, AGE INTEGER)` that will be inserted into the database.\n",
    "\n",
    "Before it can be inserted in the database, we have to change the [schema](https://streamsxtopology.readthedocs.io/en/stable/streamsx.topology.schema.html) of the input data `Stream` to the [StreamsSchema](https://streamsxtopology.readthedocs.io/en/stable/streamsx.topology.schema.html#streamsx.topology.schema.StreamSchema) type, which is the format accepted by the `JDBCStatement` class.  See the [list of mappings from Python types to StreamSchema types](https://streamsxtopology.readthedocs.io/en/stable/streamsx.topology.schema.html#streamsx.topology.schema.StreamSchema)\n",
    "\n",
    "\n",
    "The `gen_data` `Stream` contains the data produced by the `generate_data()` function.\n",
    "\n",
    "We again use `db.JDBCStatement` but in the following step, it uses `gen_data` as input stream and the predefined `sql_insert` variable as the SQL statement.\n"
   ]
  },
  {
   "cell_type": "code",
   "execution_count": null,
   "metadata": {},
   "outputs": [],
   "source": [
    "import random\n",
    "import time\n",
    "\n",
    "# generates some data with schema (ID, NAME, AGE)\n",
    "def generate_data():\n",
    "    counter = 0\n",
    "    while True:\n",
    "        #yield a random id, name and age\n",
    "        counter = counter +1 \n",
    "        yield  {\"NAME\": \"Name_\" + str(random.randint(0,500)), \"ID\": counter, \"AGE\": random.randint(10,99)}\n",
    "        time.sleep(0.10)\n",
    "\n",
    "# convert it to SPL schema for the database operator JDBCStatement\n",
    "tuple_schema = StreamSchema(\"tuple<int64 ID, rstring NAME, int32 AGE>\")\n",
    "# Generates data for a stream of three attributes. Each attribute maps to a column using the same name of the Db2 database table.\n",
    "gen_data = topo.source(generate_data, name=\"GeneratedData\").map(lambda tpl: (tpl[\"ID\"], tpl[\"NAME\"], tpl[\"AGE\"]),\n",
    "                    schema=tuple_schema)\n",
    "\n",
    "# insert generated rows into table\n",
    "config_insert = {\n",
    "    \"sql\": sql_insert,\n",
    "    \"sql_params\": 'ID, NAME, AGE'\n",
    "}\n",
    "insertResults = gen_data.map(db.JDBCStatement(db2credentials, **config_insert), name='INSERT', schema=tuple_schema)"
   ]
  },
  {
   "cell_type": "markdown",
   "metadata": {},
   "source": [
    "## <a name=\"select\"> </a> 2.3. Retrieve data from the table\n",
    "In this step the `JDBCStatement` runs the SQL statement `\"SELECT * FROM RUN_SAMPLE_DEMO\"` and returns the results in tuple schema `tuple<int64 ID, rstring NAME, int32 AGE>` .\n"
   ]
  },
  {
   "cell_type": "code",
   "execution_count": null,
   "metadata": {},
   "outputs": [],
   "source": [
    "# select all rows from table\n",
    "config_select = {\n",
    "    \"sql\": sql_select\n",
    "}\n",
    "selectResults= gen_data.map(db.JDBCStatement(db2credentials, **config_select), name='SELECT', schema='tuple<int64 ID, rstring NAME, int32 AGE>')\n",
    "selectResults.print()\n",
    "\n",
    "# create a view to check retrieving data from a table\n",
    "selectView = selectResults.view(name=\"selectRecords\", description=\"Sample of selected records\")"
   ]
  },
  {
   "cell_type": "markdown",
   "metadata": {},
   "source": [
    "# <a name=\"submit\"> </a> 3. Submit the application\n",
    "\n",
    "A running Streams application is called a *job*. This next cell submits the application for execution and prints the resulting job id."
   ]
  },
  {
   "cell_type": "code",
   "execution_count": null,
   "metadata": {},
   "outputs": [],
   "source": [
    "from streamsx.topology import context\n",
    "\n",
    "# Disable SSL certificate verification if necessary\n",
    "cfg[context.ConfigParams.SSL_VERIFY] = False\n",
    "# submit the topology 'topo'\n",
    "submission_result = context.submit (\"DISTRIBUTED\", topo, config = cfg)\n",
    "\n",
    "# The submission_result object contains information about the running application, or job\n",
    "if submission_result.job:\n",
    "    streams_job = submission_result.job\n",
    "    print (\"JobId: \", streams_job.id , \"\\nJob name: \", streams_job.name)"
   ]
  },
  {
   "cell_type": "markdown",
   "metadata": {},
   "source": [
    "# <a name=\"view\"> </a> 4. Use the View to access data from the job\n",
    "\n",
    "Now that the job is started, use the View object you have already created to start retrieving data from a table in database."
   ]
  },
  {
   "cell_type": "code",
   "execution_count": null,
   "metadata": {},
   "outputs": [],
   "source": [
    "# Connect to the view and display the selected data\n",
    "queue = selectView.start_data_fetch()\n",
    "try:\n",
    "    for val in range(20):\n",
    "        print(queue.get(timeout=60))    \n",
    "finally:\n",
    "    selectView.stop_data_fetch()"
   ]
  },
  {
   "cell_type": "markdown",
   "metadata": {},
   "source": [
    "# <a name=\"status\"> </a> 5. See job status\n",
    "\n",
    "You can view job status and logs by going to My Instances > Jobs. Find your job based on the id printed above. Retrieve job logs using the \"Download logs\" action from the job's context menu.\n",
    "\n",
    "To view other information about the job such as detailed metrics, access the graph. Go to My **Instances** > **Jobs**. Select \"View graph\" action for the running job.\n",
    "\n"
   ]
  },
  {
   "cell_type": "markdown",
   "metadata": {},
   "source": [
    "# <a name=\"cancel\"></a> 6. Cancel the job\n",
    "\n",
    "The Streams job is running in the Streams service. You can cancel it within the notebook or delete it from **My Instances** > **Jobs**.\n"
   ]
  },
  {
   "cell_type": "code",
   "execution_count": null,
   "metadata": {},
   "outputs": [],
   "source": [
    "# cancel the job directly using the Job object\n",
    "streams_job.cancel()"
   ]
  },
  {
   "cell_type": "markdown",
   "metadata": {},
   "source": [
    "## Summary\n",
    "\n",
    "We created an application which connects to Db2 database, dropped a table, created a table, inserted some rows into table and reads the rows.\n",
    "\n",
    "After submitting the application to the Streams service, we checked the application logs to see the progress.\n",
    "\n",
    "It is also possible to check the contents of the test table on Db2 console with the following command.\n",
    "\n",
    "      db2 \"SELECT * FROM RUN_SAMPLE_DEMO\"\n"
   ]
  }
 ],
 "metadata": {
  "kernelspec": {
   "display_name": "Python 3.6",
   "language": "python",
   "name": "python3"
  },
  "language_info": {
   "codemirror_mode": {
    "name": "ipython",
    "version": 3
   },
   "file_extension": ".py",
   "mimetype": "text/x-python",
   "name": "python",
   "nbconvert_exporter": "python",
   "pygments_lexer": "ipython3",
   "version": "3.6.9"
  }
 },
 "nbformat": 4,
 "nbformat_minor": 2
}
