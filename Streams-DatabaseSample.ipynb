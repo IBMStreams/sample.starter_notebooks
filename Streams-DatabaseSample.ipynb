{
 "cells": [
  {
   "cell_type": "markdown",
   "metadata": {},
   "source": [
    "# IBM Streams database sample application\n",
    "\n",
    "This sample demonstrates creating a Streams Python application to connect to a DB2 Warehouse database, perform some SQL queries, and viewing the results.\n",
    "\n",
    "In this notebook, you'll see examples of how to:\n",
    " 1. [Setup your data connections](#setup)\n",
    " 2. [Create the application](#create)\n",
    " 3. [Submit the application](#launch)\n",
    " 4. [View the results](#view)\n",
    " 5. [Job status](#status)\n",
    " 6. [Stop the application](#cancel)\n",
    "\n",
    "# Overview\n",
    "**About the sample**\n",
    "\n",
    "This application demonstrates how to drop a table, create a table, insert rows into a table and to get (SELECT) rows from a Db2 Warehouse database.\n",
    "\n",
    "**How it works**\n",
    "   \n",
    "The Python application created in this notebook is submitted to the IBM Streams service for execution. Once the application is running in the service, you can connect to it from the notebook to retrieve the results.\n",
    "\n",
    "<img src=\"https://developer.ibm.com/streamsdev/wp-content/uploads/sites/15/2019/04/how-it-works.jpg\" alt=\"How it works\">\n",
    "\n",
    "\n",
    "### Documentation\n",
    "- [Streams Python development guide](https://ibmstreams.github.io/streamsx.documentation/docs/latest/python/)\n",
    "- [Streams Python API](https://streamsxtopology.readthedocs.io/)\n",
    "\n",
    "\n",
    "\n",
    "## <a name=\"setup\"> </a> 1. Setup\n",
    "\n",
    "### 1.1 Add credentials for the IBM Streams service\n",
    "\n",
    "With the cell below selected, click the \"Connect to instance\" button in the toolbar to insert the credentials for the service.\n",
    "\n",
    "<a target=\"blank\" href=\"https://developer.ibm.com/streamsdev/wp-content/uploads/sites/15/2019/02/connect_icp4d.gif\">See an example</a>."
   ]
  },
  {
   "cell_type": "code",
   "execution_count": null,
   "metadata": {},
   "outputs": [],
   "source": []
  },
  {
   "cell_type": "markdown",
   "metadata": {},
   "source": [
    "### 1.2 Install or upgrade `streamsx.database` package\n",
    "\n",
    "Run the cell below to upgrade to the latest version of the `streamsx.database` package or to install the package."
   ]
  },
  {
   "cell_type": "code",
   "execution_count": null,
   "metadata": {},
   "outputs": [],
   "source": [
    "import sys\n",
    "!{sys.executable} -m pip install --user --upgrade streamsx.database\n",
    "\n",
    "# When you need to install a specific version of the package, run this line instead:\n",
    "#!pip install --user streamsx.database==somever"
   ]
  },
  {
   "cell_type": "code",
   "execution_count": null,
   "metadata": {},
   "outputs": [],
   "source": [
    "import streamsx.database as db\n",
    "import streamsx.topology.context\n",
    "print(\"INFO: streamsx package version: \" + streamsx.topology.context.__version__)\n",
    "print(\"INFO: streamsx.database package version: \" + db.__version__)\n"
   ]
  },
  {
   "cell_type": "markdown",
   "metadata": {},
   "source": [
    "### 1.3 Configure the connection to Db2 Warehouse\n",
    "\n",
    "We need a DB2 credentials as JSON string to connect to a DB2 database.\n",
    "This JSON string contains the database credentials **username**, **password** and **jdbcurl**.\n",
    "\n",
    "To create a DB2 credentials, please perform the following steps:\n",
    "\n",
    "- 1 Create a Db2 Warehouse service on IBM cloud.\n",
    "\n",
    "  you need to have an IBM account to create a DB2 service.\n",
    "\n",
    "  https://console.bluemix.net/catalog/?search=db2\n",
    "\n",
    "- 2 Create a service credential for DB2 service on IBM cloud.\n",
    "- 3 Copy the credentials in clipboard.\n",
    "- 4 Paste the credentials into Db2 Warehouse credentials prompt below."
   ]
  },
  {
   "cell_type": "code",
   "execution_count": null,
   "metadata": {},
   "outputs": [],
   "source": [
    "import getpass\n",
    "db2_service_credentials=getpass.getpass('Db2 Warehouse credentials:')"
   ]
  },
  {
   "cell_type": "markdown",
   "metadata": {},
   "source": [
    "## <a name=\"create\"> </a> 2. Create the application\n",
    "\n",
    "This application is going to \n",
    "- drop the DB2 table, if exists.\n",
    "- create a new table in a DB2 database.\n",
    "- insert some rows into the table.\n",
    "- select all rows from a table.\n",
    "\n",
    "All Streams applications start with a Topology object, so start by creating one:\n"
   ]
  },
  {
   "cell_type": "code",
   "execution_count": null,
   "metadata": {},
   "outputs": [],
   "source": [
    "#Imports\n",
    "from streamsx.topology.topology import *\n",
    "from streamsx.topology.context import *\n",
    "from streamsx.topology.schema import CommonSchema\n",
    "from streamsx.topology.schema import StreamSchema\n",
    "import random\n",
    "import time\n",
    "import streamsx.spl.op as op\n",
    "import streamsx.database as db\n",
    "import json\n",
    "from streamsx.topology import context\n",
    "\n",
    "db2credentials = json.loads(db2_service_credentials)\n",
    "\n",
    "table_name = 'RUN_SAMPLE_DEMO'\n",
    "\n",
    "topo = Topology(name=\"database\")\n",
    "\n",
    "# SQL statements\n",
    "sql_drop = 'DROP TABLE ' + table_name\n",
    "sql_create = 'CREATE TABLE ' + table_name + ' (ID INT, NAME CHAR(30), AGE INT)'\n",
    "sql_insert = 'INSERT INTO ' + table_name + ' (ID, NAME, AGE) VALUES (? , ?, ?)'\n",
    "sql_select = 'SELECT * FROM ' + table_name\n",
    "\n",
    "# drop the table if exist and create a new table in database\n",
    "source = topo.source([sql_drop, sql_create]).as_string()\n",
    "res_sql = db.run_statement(source, db2credentials)\n",
    "res_sql.print()\n",
    "\n",
    "\n",
    "# generates some data with schema (ID, NAME, AGE)\n",
    "def generate_data():\n",
    "    counter = 0\n",
    "    for x in range(0, 5000):\n",
    "        #yield a random id, name and age\n",
    "        yield  {\"NAME\": \"Name_\" + str(random.randint(0,500)), \"ID\": counter, \"AGE\": random.randint(10,99)}\n",
    "        counter = counter + 1\n",
    "        time.sleep(0.10)\n",
    "\n",
    "# convert it to SPL schema for the database operator run_statement\n",
    "tuple_schema = StreamSchema(\"tuple<int32 ID, rstring NAME, int32 AGE>\")\n",
    "# Generates data for a stream of three attributes. Each attribute maps to a column using the same name of the DB2 database table.\n",
    "genData = topo.source(generate_data, name=\"GeneratedData\").map(lambda tpl: (tpl[\"ID\"], tpl[\"NAME\"], tpl[\"AGE\"]), schema=tuple_schema)\n",
    "\n",
    "genData.print()\n",
    "\n",
    "# insert generated rows into table\n",
    "# It uses the statement (sql) and statementParamAttrs (sql_params) of streamsx.jdbc toolkit \n",
    "res_insert= db.run_statement(name=\"INSERT\", stream=genData, sql=sql_insert, sql_params=\"ID, NAME, AGE\" ,credentials = db2credentials)\n",
    "res_insert.print()\n",
    "\n",
    "# select all rows from table\n",
    "res_select= db.run_statement(name=\"SELECT\", schema='tuple<int32 ID, rstring NAME, int32 AGE>', stream=genData, sql=sql_select, credentials = db2credentials)\n",
    "res_select.print()\n",
    "\n",
    "# create a view to check retrieving data from a table\n",
    "select_view = res_select.view(name=\"selectRecords\", description=\"Sample of selected records\")\n"
   ]
  },
  {
   "cell_type": "markdown",
   "metadata": {},
   "source": [
    "# <a name=\"launch\"> </a> 3. Submit the application\n",
    "\n",
    "A running Streams application is called a *job*. This next cell submits the application for execution and prints the resulting job id."
   ]
  },
  {
   "cell_type": "code",
   "execution_count": null,
   "metadata": {},
   "outputs": [],
   "source": [
    "from streamsx.topology import context\n",
    "\n",
    "# Disable SSL certificate verification if necessary\n",
    "cfg[context.ConfigParams.SSL_VERIFY] = False\n",
    "# submit the topology 'topo'\n",
    "submission_result = context.submit (\"DISTRIBUTED\", topo, config = cfg)\n",
    "\n",
    "# The submission_result object contains information about the running application, or job\n",
    "if submission_result.job:\n",
    "    streams_job = submission_result.job\n",
    "    print (\"JobId: \", streams_job.id , \"\\nJob name: \", streams_job.name)"
   ]
  },
  {
   "cell_type": "markdown",
   "metadata": {},
   "source": [
    "# <a name=\"view\"> </a> 4. Use the View to access data from the job\n",
    "\n",
    "Now that the job is started, use the View object you have already created to start retrieving data from a table in database."
   ]
  },
  {
   "cell_type": "code",
   "execution_count": null,
   "metadata": {},
   "outputs": [],
   "source": [
    "# Connect to the view and display the selected data\n",
    "queue = select_view.start_data_fetch()\n",
    "try:\n",
    "    for val in range(20):\n",
    "        print(queue.get())    \n",
    "finally:\n",
    "    select_view.stop_data_fetch()"
   ]
  },
  {
   "cell_type": "markdown",
   "metadata": {},
   "source": [
    "# <a name=\"status\"> </a> 5. See job status\n",
    "\n",
    "You can view job status and logs by going to My Instances > Jobs. Find your job based on the id printed above. Retrieve job logs using the \"Download jobs\" action from the job's context menu.\n",
    "\n",
    "To view other information about the job such as detailed metrics, access the Streams Console. Go to My Instances > Provisioned Instances. Select the Streams instance and open the URL listed under externalConsoleEndpoint or serviceConsoleEndpoint.\n",
    "\n"
   ]
  },
  {
   "cell_type": "markdown",
   "metadata": {},
   "source": [
    "# <a name=\"cancel\"></a> 6. Cancel the job\n",
    "\n",
    "This cell generates a widget you can use to cancel the job.\n"
   ]
  },
  {
   "cell_type": "code",
   "execution_count": null,
   "metadata": {},
   "outputs": [],
   "source": [
    "#cancel the job in the IBM Streams service\n",
    "submission_result.cancel_job_button()"
   ]
  },
  {
   "cell_type": "markdown",
   "metadata": {},
   "source": [
    "You can also interact with the job through the Job object returned from submission_result.job\n",
    "\n",
    "For example, use job.cancel() to cancel the running job directly.\n",
    "\n",
    "## Summary\n",
    "\n",
    "We started with a Stream a job, which connected to DB2 database, dropped a table, created a table, inserted some rows into table and reads the rows.\n",
    "\n",
    "After submitting the application to the Streams service, we checked the application logs to see the progress.\n"
   ]
  },
  {
   "cell_type": "code",
   "execution_count": null,
   "metadata": {},
   "outputs": [],
   "source": []
  }
 ],
 "metadata": {
  "kernelspec": {
   "display_name": "Python3.6",
   "language": "python",
   "name": "python3"
  },
  "language_info": {
   "codemirror_mode": {
    "name": "ipython",
    "version": 3
   },
   "file_extension": ".py",
   "mimetype": "text/x-python",
   "name": "python",
   "nbconvert_exporter": "python",
   "pygments_lexer": "ipython3",
   "version": "3.6.6"
  }
 },
 "nbformat": 4,
 "nbformat_minor": 2
}
