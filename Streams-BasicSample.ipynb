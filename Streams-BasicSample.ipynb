{
 "cells": [
  {
   "cell_type": "markdown",
   "metadata": {},
   "source": [
    "# Basic Streams Sample\n",
    "\n",
    "The basic cells needed are included below.  Make any changes and add your sources, analytics and outputs.\n",
    "\n",
    "In this notebook, you'll see examples of how to:\n",
    " 1. [Setup your Streams instance](#setup)\n",
    " 1. [Create the application](#create)\n",
    " 1. [Submit the application](#launch)\n",
    " 1. [Connect to the running application to view data](#view)\n",
    " 1. [Stop the application](#cancel)\n",
    "\n",
    "# Overview\n",
    "\n",
    "**Introduction**\n",
    "\n",
    "This sample shows how to create and launch an application.\n",
    "\n",
    "**How it works**\n",
    "   \n",
    "The Python application created in this notebook is submitted to the IBM Streams service for execution.\n",
    "\n",
    "<img src=\"https://developer.ibm.com/streamsdev/wp-content/uploads/sites/15/2019/04/how-it-works.jpg\" alt=\"How it works\">\n",
    "\n",
    "\n",
    "## Documentation\n",
    "    \n",
    "- [Streams Python development guide](https://ibmstreams.github.io/streamsx.documentation/docs/latest/python/)\n",
    "- [Streams Python API](https://streamsxtopology.readthedocs.io/)\n",
    "\n",
    "\n",
    "\n",
    "## <a name=\"setup\"> </a> 1. Setup\n",
    "\n",
    "### 1.1 Add credentials for the IBM Streams service\n",
    "\n",
    "In order to submit a Streams application you need to provide the name of the Streams instance.\n",
    "\n",
    "1. From the navigation menu, click **My instances**.\n",
    "2. Click the **Provisioned Instances** tab.\n",
    "3. Update the value of `streams_instance_name` in the cell below according to your Streams instance name.\n"
   ]
  },
  {
   "cell_type": "code",
   "execution_count": null,
   "metadata": {},
   "outputs": [],
   "source": [
    "from icpd_core import icpd_util\n",
    "streams_instance_name = \"my-instance\" ## Change this to Streams instance\n",
    "cfg=icpd_util.get_service_instance_details(name=streams_instance_name)"
   ]
  },
  {
   "cell_type": "markdown",
   "metadata": {},
   "source": [
    "### 1.2 Import  the `streamsx` package and verify the package version"
   ]
  },
  {
   "cell_type": "code",
   "execution_count": null,
   "metadata": {},
   "outputs": [],
   "source": [
    "import streamsx.topology.context\n",
    "print(\"INFO: streamsx package version: \" + streamsx.topology.context.__version__)\n",
    "\n",
    "#For more details uncomment line below.\n",
    "#!pip show streamsx"
   ]
  },
  {
   "cell_type": "markdown",
   "metadata": {},
   "source": [
    "<a id=\"create\"></a>\n",
    "# 2. Create the application"
   ]
  },
  {
   "cell_type": "code",
   "execution_count": null,
   "metadata": {},
   "outputs": [],
   "source": [
    "#create topology...change the name to something more meaningful\n",
    "from streamsx.topology.topology import Topology\n",
    "import streamsx.topology.context\n",
    "\n",
    "topo = Topology(name=\"BasicTemplate\")"
   ]
  },
  {
   "cell_type": "code",
   "execution_count": null,
   "metadata": {},
   "outputs": [],
   "source": [
    "# add stream...delete and replace this with your streams and analytics\n",
    "# this is added so the topology will run (needs a source)\n",
    "# produces a random integer between 1 and 100 every tenth of a second\n",
    "import random, time\n",
    "def readings():\n",
    "    while True:\n",
    "        time.sleep(0.1)\n",
    "        yield random.randint(1,100)\n",
    "\n",
    "source = topo.source(readings)\n",
    "\n",
    "# create a view to watch the stream data while running\n",
    "source_view = source.view(name=\"RandomIntegers\", description=\"Random integers from source stream\")"
   ]
  },
  {
   "cell_type": "markdown",
   "metadata": {},
   "source": [
    "<a id=\"launch\"></a>\n",
    "# 3. Submit the application\n",
    "A running Streams application is called a *job*. By submitting the topology we create a job."
   ]
  },
  {
   "cell_type": "code",
   "execution_count": null,
   "metadata": {},
   "outputs": [],
   "source": [
    "from streamsx.topology import context\n",
    "from streamsx.topology.context import ContextTypes\n",
    "\n",
    "# Disable SSL certificate verification if necessary\n",
    "cfg[context.ConfigParams.SSL_VERIFY] = False\n",
    "# submit the topology 'topo'\n",
    "submission_result = context.submit (ContextTypes.DISTRIBUTED, topo, config = cfg)\n",
    "\n",
    "# The submission_result object contains information about the running application, or job\n",
    "if submission_result.job:\n",
    "    streams_job = submission_result.job\n",
    "    print (\"JobId: \", streams_job.id , \"\\nJob name: \", streams_job.name)"
   ]
  },
  {
   "cell_type": "markdown",
   "metadata": {},
   "source": [
    "<a name=\"view\"></a>\n",
    "# 4. Use a `View` to access data from the job\n",
    "Now that the job is started, use the `View` object to start retrieving data from a `Stream`."
   ]
  },
  {
   "cell_type": "code",
   "execution_count": null,
   "metadata": {},
   "outputs": [],
   "source": [
    "#show 30 seconds of data\n",
    "if submission_result.job:\n",
    "    queue = source_view.start_data_fetch()\n",
    "    timeSpan = time.time() + 30;\n",
    "    while time.time() < timeSpan:\n",
    "        print(queue.get())\n",
    "    source_view.stop_data_fetch()\n"
   ]
  },
  {
   "cell_type": "markdown",
   "metadata": {},
   "source": [
    "\n",
    "<a name=\"cancel\"></a>\n",
    "\n",
    "# 5. Cancel the job\n",
    "\n",
    "This cell generates widgets you can use to cancel the jobs."
   ]
  },
  {
   "cell_type": "code",
   "execution_count": null,
   "metadata": {},
   "outputs": [],
   "source": [
    "submission_result.cancel_job_button()"
   ]
  },
  {
   "cell_type": "markdown",
   "metadata": {},
   "source": [
    "You can also interact with the job through the [Job](https://streamsxtopology.readthedocs.io/en/stable/streamsx.rest_primitives.html#streamsx.rest_primitives.Job) object returned from `submission_result.job`\n",
    "\n",
    "For example, use `streams_job.cancel()` to cancel the running job directly."
   ]
  }
 ],
 "metadata": {
  "kernelspec": {
   "display_name": "Python 3.6",
   "language": "python",
   "name": "python3"
  },
  "language_info": {
   "codemirror_mode": {
    "name": "ipython",
    "version": 3
   },
   "file_extension": ".py",
   "mimetype": "text/x-python",
   "name": "python",
   "nbconvert_exporter": "python",
   "pygments_lexer": "ipython3",
   "version": "3.6.8"
  }
 },
 "nbformat": 4,
 "nbformat_minor": 1
}
