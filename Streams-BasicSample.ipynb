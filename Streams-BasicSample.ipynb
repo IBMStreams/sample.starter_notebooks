{
 "cells": [
  {
   "cell_type": "markdown",
   "metadata": {},
   "source": [
    "# Basic Streams Sample\n",
    "\n",
    "The basic cells needed are included below.  Make any changes and add your sources, analytics and outputs.\n",
    "\n",
    "In this notebook, you'll see examples of how to:\n",
    " 1. [Setup your Streams instance](#setup)\n",
    " 1. [Create the application](#create)\n",
    " 1. [Submit the application](#launch)\n",
    " 1. [Connect to the running application to view data](#view)\n",
    " 1. [Stop the application](#cancel)\n",
    "\n",
    "# Overview\n",
    "\n",
    "**Introduction**\n",
    "\n",
    "This sample shows how to create and launch an application.\n",
    "\n",
    "**How it works**\n",
    "   \n",
    "The Python application created in this notebook is submitted to the IBM Streams service for execution.\n",
    "\n",
    "<img src=\"https://developer.ibm.com/streamsdev/wp-content/uploads/sites/15/2019/04/how-it-works.jpg\" alt=\"How it works\">\n",
    "\n",
    "\n",
    "## Documentation\n",
    "    \n",
    "- [Streams Python development guide](https://ibmstreams.github.io/streamsx.documentation/docs/latest/python/)\n",
    "- [Streams Python API](https://streamsxtopology.readthedocs.io/)\n",
    "\n",
    "\n",
    "\n",
    "# Prerequisites\n",
    "\n",
    "This notebook can be used as-is from within an IBM Cloud Pak for Data project. \n",
    "\n",
    "If you are not running this notebook from within IBM Cloud Pak for Data, [follow these steps to make sure you have installed all the prerequisites](https://ibmstreams.github.io/streamsx.documentation/docs/python/1.6/python-appapi-devguide-2/).\n",
    "\n",
    "<a name=\"setup\"></a>\n",
    "\n",
    "\n",
    "# 1. Set up a connection to the Streams instance\n",
    "\n",
    "\n",
    "To submit the application for execution, you have to connect to the Streams instance. The information required to connect to the instance depends on the target installation of Streams. \n",
    "\n",
    "Choose the option that matches your development environment.\n",
    "\n",
    "- **Option 1**: [I'm running the notebook from an IBM Cloud for Data project](#cpd)\n",
    "- **Option 2**: [I'm using IBM Watson Studio, Jupyter Notebooks, or any other development environment](#notcpd)\n",
    "\n"
   ]
  },
  {
   "cell_type": "markdown",
   "metadata": {},
   "source": [
    "<a name=\"cpd\"></a>\n",
    "### Option 1: Connect to a Streams instance from an IBM Cloud Pak for Data  project\n",
    "\n",
    "In order to submit a Streams application you need to provide the name of the Streams instance.\n",
    "\n",
    "1. From the navigation menu, click **My instances**.\n",
    "2. Click the **Provisioned Instances** tab.\n",
    "3. Update the value of `streams_instance_name` in the cell below according to your Streams instance name\n",
    "4. Run the cell and skip to section 1.2\n",
    "\n",
    "The cell below defines a function called `submit_topology` that will be used later on to submit the `Topology` once it is defined.\n",
    "\n"
   ]
  },
  {
   "cell_type": "code",
   "execution_count": 10,
   "metadata": {},
   "outputs": [
    {
     "name": "stdout",
     "output_type": "stream",
     "text": [
      "Setup complete, continue to section 1.2\n"
     ]
    }
   ],
   "source": [
    "from icpd_core import icpd_util\n",
    "from streamsx.topology import context\n",
    "\n",
    "streams_instance_name = \"sample-streams\" ## Change this to Streams instance\n",
    "try:\n",
    "    cfg=icpd_util.get_service_instance_details(name=streams_instance_name, instance_type=\"streams\")\n",
    "except TypeError:\n",
    "    cfg=icpd_util.get_service_instance_details(name=streams_instance_name)\n",
    "\n",
    "def submit_topology(topo):\n",
    "    global cfg\n",
    "    # Disable SSL certificate verification if necessary\n",
    "    cfg[context.ConfigParams.SSL_VERIFY] = False\n",
    "    # Topology wil be deployed as a distributed app\n",
    "    contextType = context.ContextTypes.DISTRIBUTED\n",
    "    return context.submit (contextType, topo, config = cfg)\n",
    "\n",
    "print(\"Setup complete, continue to section 1.2\")"
   ]
  },
  {
   "cell_type": "markdown",
   "metadata": {},
   "source": [
    "<a name=\"notcpd\"></a>\n",
    "### Option 2: Connect to a Streams instance from IBM Watson Studio and other environments\n",
    "\n",
    "*Skip this section if you are running the notebook from a Cloud Pak for Data project.*\n",
    "\n",
    "The code for each scenario is available in the development guide.  \n",
    "Each snippet will define a function called `submit_topology` that will be used later on to submit the `Topology` once it is defined.\n",
    "\n",
    "- Choose the tab that best matches your environment. \n",
    "- Copy the code under the heading **Copy this code snippet**.\n",
    "- Paste it in the cell below.\n",
    "\n",
    "    [Connection instructions from the development guide](https://ibmstreams.github.io/streamsx.documentation/docs/python/1.6/python-appapi-devguide-2/#connect)\n"
   ]
  },
  {
   "cell_type": "code",
   "execution_count": 11,
   "metadata": {},
   "outputs": [],
   "source": [
    "## Paste snippet from development guide\n"
   ]
  },
  {
   "cell_type": "markdown",
   "metadata": {},
   "source": [
    "### 1.2 Import  the `streamsx` package and verify the package version"
   ]
  },
  {
   "cell_type": "code",
   "execution_count": 12,
   "metadata": {},
   "outputs": [
    {
     "name": "stdout",
     "output_type": "stream",
     "text": [
      "INFO: streamsx package version: 1.14.13\n"
     ]
    }
   ],
   "source": [
    "import streamsx.topology.context\n",
    "print(\"INFO: streamsx package version: \" + streamsx.topology.context.__version__)\n",
    "\n",
    "#For more details uncomment line below.\n",
    "#!pip show streamsx"
   ]
  },
  {
   "cell_type": "markdown",
   "metadata": {},
   "source": [
    "<a id=\"create\"></a>\n",
    "# 2. Create the application"
   ]
  },
  {
   "cell_type": "code",
   "execution_count": 13,
   "metadata": {},
   "outputs": [],
   "source": [
    "#create topology...change the name to something more meaningful\n",
    "from streamsx.topology.topology import Topology\n",
    "import streamsx.topology.context\n",
    "\n",
    "topo = Topology(name=\"BasicTemplate\", namespace=\"sample\")"
   ]
  },
  {
   "cell_type": "code",
   "execution_count": 14,
   "metadata": {},
   "outputs": [],
   "source": [
    "# add stream...delete and replace this with your streams and analytics\n",
    "# this is added so the topology will run (needs a source)\n",
    "# produces a random integer between 1 and 100 every tenth of a second\n",
    "import random, time\n",
    "def readings():\n",
    "    while True:\n",
    "        time.sleep(0.1)\n",
    "        yield random.randint(1,100)\n",
    "\n",
    "source = topo.source(readings)\n",
    "\n",
    "# create a view to watch the stream data while running\n",
    "source_view = source.view(name=\"RandomIntegers\", description=\"Random integers from source stream\")"
   ]
  },
  {
   "cell_type": "markdown",
   "metadata": {},
   "source": [
    "<a id=\"launch\"></a>\n",
    "# 3. Submit the application\n",
    "A running Streams application is called a *job*. By submitting the topology we create a job."
   ]
  },
  {
   "cell_type": "code",
   "execution_count": 19,
   "metadata": {},
   "outputs": [
    {
     "name": "stdout",
     "output_type": "stream",
     "text": [
      "Submitting Topology to Streams for execution..\n"
     ]
    },
    {
     "data": {
      "application/vnd.jupyter.widget-view+json": {
       "model_id": "9b61720b4f6c47a59339861df309032c",
       "version_major": 2,
       "version_minor": 0
      },
      "text/plain": [
       "IntProgress(value=0, bar_style='info', description='Initializing', max=10, style=ProgressStyle(description_wid…"
      ]
     },
     "metadata": {},
     "output_type": "display_data"
    },
    {
     "name": "stderr",
     "output_type": "stream",
     "text": [
      "Insecure host connections enabled.\n",
      "Insecure host connections enabled.\n",
      "Insecure host connections enabled.\n"
     ]
    },
    {
     "name": "stdout",
     "output_type": "stream",
     "text": [
      "JobId:  8 \n",
      "Job name:  natasha::BasicTemplate_8\n"
     ]
    }
   ],
   "source": [
    "# The submission_result object contains information about the running application, or job\n",
    "print(\"Submitting Topology to Streams for execution..\")\n",
    "submission_result = submit_topology(topo)\n",
    "\n",
    "if submission_result.job:\n",
    "  streams_job = submission_result.job\n",
    "  print (\"JobId: \", streams_job.id , \"\\nJob name: \", streams_job.name)\n",
    "else:\n",
    "  print(\"Submission failed: \"   + str(submission_result))"
   ]
  },
  {
   "cell_type": "markdown",
   "metadata": {},
   "source": [
    "<a name=\"view\"></a>\n",
    "# 4. Use a `View` to access data from the job\n",
    "Now that the job is started, use the `View` object to start retrieving data from a `Stream`."
   ]
  },
  {
   "cell_type": "code",
   "execution_count": null,
   "metadata": {},
   "outputs": [],
   "source": [
    "#show 30 seconds of data\n",
    "if submission_result.job:\n",
    "    queue = source_view.start_data_fetch()\n",
    "    timeSpan = time.time() + 30;\n",
    "    while time.time() < timeSpan:\n",
    "        print(queue.get(timeout=60))\n",
    "    source_view.stop_data_fetch()"
   ]
  },
  {
   "cell_type": "markdown",
   "metadata": {},
   "source": [
    "\n",
    "<a name=\"cancel\"></a>\n",
    "\n",
    "# 5. Cancel the job\n",
    "\n",
    "The Streams job is running in the Streams service. You can cancel it within the notebook or delete it from **My Instances** > **Jobs**."
   ]
  },
  {
   "cell_type": "code",
   "execution_count": null,
   "metadata": {},
   "outputs": [],
   "source": [
    "# cancel the job directly using the Job object\n",
    "submission_result.cancel_job_button()\n",
    "# or, use \n",
    "# streams_job.cancel()"
   ]
  }
 ],
 "metadata": {
  "kernelspec": {
   "display_name": "Python 3.6",
   "language": "python",
   "name": "python3"
  },
  "language_info": {
   "codemirror_mode": {
    "name": "ipython",
    "version": 3
   },
   "file_extension": ".py",
   "mimetype": "text/x-python",
   "name": "python",
   "nbconvert_exporter": "python",
   "pygments_lexer": "ipython3",
   "version": "3.6.10"
  }
 },
 "nbformat": 4,
 "nbformat_minor": 1
}
