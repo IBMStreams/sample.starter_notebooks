{
 "cells": [
  {
   "attachments": {
    "DRUG_SAMPLE.csv.jpg": {
     "image/jpeg": "[encoded data removed]"
    },
    "Drug_Sample.jar.jpg": {
     "image/jpeg": "[encoded data removed]"
    }
   },
   "cell_type": "markdown",
   "metadata": {
    "collapsed": true
   },
   "source": [
    "# IBM Streams PMML scoring sample application\n",
    "\n",
    "This sample demonstrates creating a Streams Python application to perform scoring with a PMML model and viewing the results.\n",
    "\n",
    "In this notebook, you'll see examples of how to :\n",
    " 1. [Setup your data connections](#setup)\n",
    " 2. [Create the application](#create)\n",
    " 3. [Submit the application](#launch)\n",
    " 4. [Connect to the running application to view data](#view)\n",
    " 5. [Stop the application](#cancel)\n",
    "\n",
    "# Overview\n",
    "\n",
    "**About the sample**\n",
    "\n",
    "This application simulates patient data which are used to determine the best drug for each patient. Used patient data are: sex, blood-pressure, colesterol, sodium and potassium concentration as well as sex and age. A trained PMML model is used to find the best drug.  \n",
    "This ML scenario is a sample scenario provided in IBM Cloud for creating a SPSS model inside Watson Studio.\n",
    "\n",
    "\n",
    "**How it works**\n",
    "\n",
    "The Python application created in this notebook is submitted to the IBM Streams service for execution. Once the application is running in the service, you can connect to it from the notebook to retrieve the results.\n",
    "\n",
    "\n",
    "<img src=\"https://developer.ibm.com/streamsdev/wp-content/uploads/sites/15/2019/04/how-it-works.jpg\" alt=\"How it works\">\n",
    "\n",
    "\n",
    "### Documentation\n",
    "\n",
    "- [Streams Python development guide](https://ibmstreams.github.io/streamsx.documentation/docs/latest/python/)\n",
    "- [Streams Python API](https://streamsxtopology.readthedocs.io/)\n",
    "\n",
    "\n",
    "\n",
    "<a name=\"setup\"></a>\n",
    "# 1. Setup\n",
    "### 1.1 Add credentials for the IBM Streams service\n",
    "\n",
    "With the cell below selected, click the \"Connect to instance\" button in the toolbar to insert the credentials for the service.\n",
    "\n",
    "<a target=\"blank\" href=\"https://developer.ibm.com/streamsdev/wp-content/uploads/sites/15/2019/02/connect_icp4d.gif\">See an example</a>.\n",
    "![ ](attachment:Drug_Sample.jar.jpg)\n",
    "![ ](attachment:DRUG_SAMPLE.csv.jpg)"
   ]
  },
  {
   "cell_type": "code",
   "execution_count": null,
   "metadata": {},
   "outputs": [],
   "source": []
  },
  {
   "cell_type": "markdown",
   "metadata": {},
   "source": [
    "## 1.2 Install or upgrade `streamsx.pmml` package\n",
    "\n",
    "In this sample we need the Python package streamsx.pmml containing the PMML scoring functionality as well as the streamsx.standard package for common streaming functions.   \n",
    "You need to install streamsx.pmml version 1.0.0 (at least).\n",
    "\n"
   ]
  },
  {
   "cell_type": "code",
   "execution_count": null,
   "metadata": {},
   "outputs": [],
   "source": [
    "import sys\n",
    "!{sys.executable} -m pip install --user --upgrade streamsx.pmml\n",
    "!{sys.executable} -m pip install --user --upgrade streamsx.standard\n",
    "\n",
    "# When you need to install a specific version of the package, run this line instead:\n",
    "#!{sys.executable} -m pip install --user streamsx.pmml==somever"
   ]
  },
  {
   "cell_type": "code",
   "execution_count": null,
   "metadata": {},
   "outputs": [],
   "source": [
    "import streamsx.topology.context\n",
    "import streamsx.eventstreams as pmml\n",
    "print(\"INFO: streamsx package version: \" + streamsx.topology.context.__version__)\n",
    "print(\"INFO: streamsx.pmml package version: \" + pmml.__version__)"
   ]
  },
  {
   "cell_type": "markdown",
   "metadata": {},
   "source": [
    "## 1.3 Prepare your project with necessary sample data\n",
    "\n",
    "This sample expects a PMML model in your project as well as a data-set of patient data. To be most comfortable these files are embedded in this notebook (as attachment being not visible).\n",
    "To setup your project with this data you need to run the next code cell. It will extract the data and copy it in the correct places in your project. They appear in your project as if you would have added the data set via the Web Gui resp. exported the PMML model from the `Flow Modeler`.\n",
    "This notebook creates a model named `Drug` and a data set named `DRGUG_SAMPLE.csv`. If you have already elements with those names please rename or delete them otherwise the notebook will not properly work."
   ]
  },
  {
   "cell_type": "code",
   "execution_count": null,
   "metadata": {},
   "outputs": [],
   "source": [
    "%%javascript\n",
    "//get the notebook name from the side\n",
    "var samplenotebookname = document.getElementsByTagName(\"body\")[0].getAttribute(\"data-notebook-name\"); \n",
    "IPython.notebook.kernel.execute('samplenotebookname=\"' + samplenotebookname + '\";');\n"
   ]
  },
  {
   "cell_type": "markdown",
   "metadata": {},
   "source": [
    "<div class=\"output_wrapper output output_area output_subarea output_text output_stream output_stderr\">\n",
    "<b> The next cell has to be executed manually and cannot be run together with the cell above via \"Run All\". </b>\n",
    "</div>"
   ]
  },
  {
   "cell_type": "code",
   "execution_count": null,
   "metadata": {},
   "outputs": [],
   "source": [
    "import nbformat\n",
    "import base64\n",
    "\n",
    "#use the notebook name to open the notebook file and get the attachements\n",
    "nb = nbformat.read(samplenotebookname, nbformat.current_nbformat)\n",
    "base64model = base64.b64decode(nb.cells[0].attachments['Drug_Sample.jar.jpg']['image/jpeg'])\n",
    "base64data = base64.b64decode(nb.cells[0].attachments['DRUG_SAMPLE.csv.jpg']['image/jpeg'])\n",
    "!rm -r Drug\n",
    "!rm Drug_Sample.jar\n",
    "fp = open('Drug_Sample.jar','w+b')\n",
    "fp.write(base64model)\n",
    "fp.close()\n",
    "!jar -xf Drug_Sample.jar \n",
    "!mv Drug ../models/\n",
    "!rm Drug_Sample.jar\n",
    "\n",
    "!rm DRUG_SAMPLE.csv\n",
    "fp = open('DRUG_SAMPLE.csv','w+b')\n",
    "fp.write(base64data)\n",
    "fp.close()\n",
    "!mv DRUG_SAMPLE.csv ../datasets/DRUG_SAMPLE.csv\n"
   ]
  },
  {
   "cell_type": "markdown",
   "metadata": {},
   "source": [
    "<a id=\"create\"></a>\n",
    "# 2. Create the application\n",
    "This application is going to ingest simulated patient data and determines drug based on the actual patient data.  \n",
    "\n",
    "All Streams applications start with  a `Topology` object, so start by creating one:"
   ]
  },
  {
   "cell_type": "code",
   "execution_count": null,
   "metadata": {},
   "outputs": [],
   "source": [
    "from streamsx.topology.topology import Topology\n",
    "\n",
    "topo = Topology(name=\"PMMLScoring\")\n",
    "\n",
    "# add files to be contained in the archive which is deployed to the node running the application\n",
    "# in this sample we need the `dataset` with sample data to be present at the worker node\n",
    "topo.add_file_dependency(\"../datasets/DRUG_SAMPLE.csv\", 'etc')"
   ]
  },
  {
   "cell_type": "markdown",
   "metadata": {},
   "source": [
    "## 2.1 Define data schemas\n",
    "\n",
    "Some functions need explicite definition of the schema to be used. Below the needed schemas are defined.\n"
   ]
  },
  {
   "cell_type": "code",
   "execution_count": null,
   "metadata": {},
   "outputs": [],
   "source": [
    "from streamsx.topology.schema import StreamSchema\n",
    "\n",
    "\n",
    "# create streams schema for FileSource\n",
    "rawData = StreamSchema(\n",
    "    \"tuple<int32 age, rstring sex, rstring bloodPressure, rstring cholesterol, float64 bloodSodiumConcentration, float64 bloodPotassionConcentration,rstring referenceDrug>\"\n",
    ")\n",
    "\n",
    "# extend the schema for the score function\n",
    "scoredData = rawData.extend(StreamSchema(\"tuple<float64 NA_to_K, rstring predictedDrug>\"))"
   ]
  },
  {
   "cell_type": "markdown",
   "metadata": {},
   "source": [
    "## 2.2 Define Input \n",
    "\n",
    "As data source for the sample a CSV file is used. The file will be read line by line, each line being a record resp. tuple. \n",
    "We throttle the processing down in this sample to not drive the ressources to their limits. Removing throttle() and sleep() will give you full performance."
   ]
  },
  {
   "cell_type": "code",
   "execution_count": null,
   "metadata": {},
   "outputs": [],
   "source": [
    "import os\n",
    "import streamsx.ec\n",
    "import streamsx.standard.utility as util\n",
    "import streamsx.spl.op as op\n",
    "from enum import IntEnum\n",
    "from time import sleep\n",
    "\n",
    "# enum for usage with the filesink, filesource\n",
    "class DataFormats(IntEnum):\n",
    "    csv = 0\n",
    "    txt = 1\n",
    "\n",
    "# define a source class\n",
    "# it generates filenames which should be processed in the application\n",
    "# in the sample there is only  one file with sample data \n",
    "# so it returns for demo purposes any time the same filename \n",
    "class NameGenerator(object):\n",
    "    def __call__(self):\n",
    "        while True:\n",
    "            sleep(3)\n",
    "            yield os.path.join(streamsx.ec.get_application_directory(), \"etc\", \"DRUG_SAMPLE.csv\")\n",
    "\n",
    "    \n",
    "# filename stream, each tuple is a filename, the FileSource operator needs StructuredSchema so we generate one\n",
    "filenames = topo.source(NameGenerator()).as_string().map(lambda i : { \"fileName\":i }, schema=\"tuple<rstring fileName>\")\n",
    "\n",
    "\n",
    "# read the csv records from the file for each filename received in filename stream\n",
    "filerecords = op.Map(\"spl.adapter::FileSource\", filenames, schema=rawData, params={\"format\":DataFormats.csv, \"hasHeaderLine\":True }).stream\n",
    "\n",
    "# throttle the processing rate just for this sample to be able to see view content\n",
    "# not for real application!!!\n",
    "records = util.throttle(filerecords, 50.0)"
   ]
  },
  {
   "cell_type": "markdown",
   "metadata": {},
   "source": [
    "## 2.3 Define Data Analytics to be performed on your data --> ML scoring\n",
    "\n",
    "Next to reading your streaming data from a source you need to define the \"Analytics\" you want to perform on your data. In this sample you will use a ML model to predict a drug based on a patients medical data. We use a PMML model. The model would be created in your project either by exporting it from a `Flow Modeler` or by importing it via the Web-Gui.\n",
    "The PMML model file is loaded from your projects model location. It will be added to the application archive as it is need at the node executing your application.\n",
    "\n",
    "But before scoring there is the need for preprocessing as the ML model expects not single sodium and potassium concentration but the quotient of both: NA/K.\n",
    "\n",
    "Steps are outlined in the code below.\n",
    "See the [PMML streamsx package documentation](https://streamsxpmml.readthedocs.io/en/latest/)  for details."
   ]
  },
  {
   "cell_type": "code",
   "execution_count": null,
   "metadata": {},
   "outputs": [],
   "source": [
    "import streamsx.pmml as pmml\n",
    "\n",
    "# preprocessing : derive one input predictor field (NA_To_K)\n",
    "preprocess_op = op.Map(\"spl.relational::Functor\", records, schema=scoredData)\n",
    "preprocess_op.NA_to_K = preprocess_op.output('bloodSodiumConcentration / bloodPotassionConcentration')\n",
    "preprocess_op.predictedDrug = preprocess_op.output('\"\"')\n",
    "preprocess = preprocess_op.stream\n",
    "\n",
    "# score the records\n",
    "score = pmml.score(preprocess,\n",
    "    schema=scoredData,\n",
    "    model_input_attribute_mapping='Age=age,BP=bloodPressure,Cholesterol=cholesterol,Na_to_K=NA_to_K,Sex=sex',\n",
    "    model_path='../models/Drug/1/model',\n",
    "    model_output_attribute_mapping='predictedDrug=Drug.PredictedValue'\n",
    ")"
   ]
  },
  {
   "cell_type": "markdown",
   "metadata": {},
   "source": [
    "## 2.4 Create a `View` to preview the tuples on the result `Stream` \n",
    "\n",
    "\n",
    "A `View` is a connection to a `Stream` that becomes activated when the application is running. We examine the data from within the notebook in section 4, below."
   ]
  },
  {
   "cell_type": "code",
   "execution_count": null,
   "metadata": {},
   "outputs": [],
   "source": [
    "score_view = score.view(name=\"ScoredRecords\", description=\"Sample of scored records\")"
   ]
  },
  {
   "cell_type": "markdown",
   "metadata": {},
   "source": [
    "## 2.5 Define Output\n",
    "\n",
    "The `score` stream is our final result.  We will use `Stream.publish()` to make this stream available to other applications. \n",
    "\n",
    "If you want to send the stream to another database or system, you would use a sink function (similar to the source function) and invoke it using `Stream.for_each`.\n",
    "\n"
   ]
  },
  {
   "cell_type": "code",
   "execution_count": null,
   "metadata": {},
   "outputs": [],
   "source": [
    "import json\n",
    "# publish results as JSON\n",
    "score.publish(topic=\"ScoredRecords\",\n",
    "                        schema=json, \n",
    "                        name=\"PublishScores\")\n",
    "\n",
    "# Other options include:\n",
    "# invoke another sink function:\n",
    "# rolling_average.for_each(func=send_to_db)"
   ]
  },
  {
   "cell_type": "markdown",
   "metadata": {},
   "source": [
    "<a name=\"launch\"></a>\n",
    "\n",
    "# 3. Submit the application\n",
    "A running Streams application is called a *job*. This next cell submits the application for execution and prints the resulting job id.\n"
   ]
  },
  {
   "cell_type": "code",
   "execution_count": null,
   "metadata": {
    "scrolled": false
   },
   "outputs": [],
   "source": [
    "from streamsx.topology import context\n",
    "\n",
    "# Disable SSL certificate verification if necessary\n",
    "cfg[context.ConfigParams.SSL_VERIFY] = False\n",
    "\n",
    "# build and submit\n",
    "submission_result = context.submit('DISTRIBUTED', \n",
    "                                   topo, \n",
    "                                   cfg)\n",
    "\n",
    "print(submission_result)\n",
    "# The submission_result object contains information about the running application, or job\n",
    "if submission_result.job:\n",
    "    print(\"JobId: \", submission_result.job.id , \"Name: \", submission_result.job.name)\n"
   ]
  },
  {
   "cell_type": "markdown",
   "metadata": {},
   "source": [
    "<a name=\"view\"></a>\n",
    "\n",
    "# 4. Use the `View` to access data from the job\n",
    "Now that the job is started, use the `View` object you created in step 2.3 to start retrieving data from a `Stream`.   \n",
    "   \n",
    "Compare the attributes 'referenceDrug' and 'predictedDrug' in the output below. The predicted drug is the result of the scoring. Both values should be equal."
   ]
  },
  {
   "cell_type": "code",
   "execution_count": null,
   "metadata": {},
   "outputs": [],
   "source": [
    "# Connect to the view and display the data\n",
    "queue = score_view.start_data_fetch()\n",
    "try:\n",
    "    for val in range(10):\n",
    "        print(queue.get())    \n",
    "finally:\n",
    "    score_view.stop_data_fetch()"
   ]
  },
  {
   "cell_type": "markdown",
   "metadata": {},
   "source": [
    "## 4.1 Display the results in real time\n",
    "Calling `View.display()` from the notebook displays the results of the view in a table that is updated in real-time."
   ]
  },
  {
   "cell_type": "code",
   "execution_count": null,
   "metadata": {
    "scrolled": true
   },
   "outputs": [],
   "source": [
    "# Display the results for 30 seconds\n",
    "score_view.display(duration=30)"
   ]
  },
  {
   "cell_type": "markdown",
   "metadata": {},
   "source": [
    "\n",
    "## 4.2 See job status \n",
    "\n",
    "You can view job status and logs by going to **My Instances** > **Jobs**. Find your job based on the id printed above.\n",
    "Retrieve job logs using the \"Download jobs\" action from the job's context menu.\n",
    "\n",
    "To view other information about the job such as detailed metrics, access the Streams Console.  Go to **My Instances** > **Provisioned Instances**. Select the Streams instance and open the URL listed under *externalConsoleEndpoint* or *serviceConsoleEndpoint*."
   ]
  },
  {
   "cell_type": "markdown",
   "metadata": {},
   "source": [
    "<a name=\"cancel\"></a>\n",
    "\n",
    "# 5. Cancel the job"
   ]
  },
  {
   "cell_type": "markdown",
   "metadata": {},
   "source": [
    "This cell generates a widget you can use to cancel the job."
   ]
  },
  {
   "cell_type": "code",
   "execution_count": null,
   "metadata": {},
   "outputs": [],
   "source": [
    "#cancel the job in the IBM Streams service\n",
    "submission_result.cancel_job_button()"
   ]
  },
  {
   "cell_type": "markdown",
   "metadata": {},
   "source": [
    "You can also interact with the job through the [Job](https://streamsxtopology.readthedocs.io/en/stable/streamsx.rest_primitives.html#streamsx.rest_primitives.Job) object returned from `submission_result.job`\n",
    "\n",
    "For example, use `job.cancel()` to cancel the running job directly."
   ]
  },
  {
   "cell_type": "markdown",
   "metadata": {},
   "source": [
    "# Summary\n",
    "\n",
    "We started with a `Stream` called `records`, which contained the data we wanted to analyze. Next, we used functions in the `Stream` object to perform simple preprocessing before we scored the data with a ML model and produced the `score` stream.  This stream is finally written to a file.\n",
    "\n",
    "After submitting the application to the Streams service, we connected to the `score_view` view to see the results within the notebook."
   ]
  }
 ],
 "metadata": {
  "anaconda-cloud": {},
  "kernelspec": {
   "display_name": "Python3.6",
   "language": "python",
   "name": "python3"
  },
  "language_info": {
   "codemirror_mode": {
    "name": "ipython",
    "version": 3
   },
   "file_extension": ".py",
   "mimetype": "text/x-python",
   "name": "python",
   "nbconvert_exporter": "python",
   "pygments_lexer": "ipython3",
   "version": "3.6.6"
  }
 },
 "nbformat": 4,
 "nbformat_minor": 1
}
